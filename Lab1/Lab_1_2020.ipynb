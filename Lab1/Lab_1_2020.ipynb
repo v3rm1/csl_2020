{
 "cells": [
  {
   "cell_type": "markdown",
   "metadata": {
    "colab_type": "text",
    "id": "TDvzzMVeo4Pp"
   },
   "source": [
    "# Lab1: Simple Connectionist Models of Language\n",
    "#### Lab design and questions: Jennifer Spenader 2019/2020, Python code version: Wietse de Vries, 2019\n",
    "#### Revised by: Jacqueline van Arkel, Sohyung Kim, Giorgos Tziafas, 2020"
   ]
  },
  {
   "cell_type": "markdown",
   "metadata": {
    "colab_type": "text",
    "id": "xnIcXImqo4Pw"
   },
   "source": [
    "## Learning Goals for this lab:\n",
    "\n",
    "* Get used to use the Keras deep learning framework\n",
    "* Build simple feed-forward connectionist networks\n",
    "* Understand the usefulness of hidden layers\n",
    "* Understand the features of simple recurrent networks (SRNs)\n",
    "* Build a simple recurrent network by using Keras that performs the sameas Elman (1990)\n",
    "* Carry out a follow-up experiment with the Elman (1990) network\n",
    "* Answer questions related to Elman (1990)\n",
    "* All lab reports should be handed in individually. However, most questions can be compeleted in pairs if desired. The exception is Exercise 6 at the end of the lab. Exercise 6 should be answered individually. If you work together, please clearly identify who you worked with in your homework. Also, please add your name and student number to the first page of the homework.\n",
    "\n",
    "Note: only questions next to capital letters in `Exercise` sections need to be included in the report. Other questions are rhetorical."
   ]
  },
  {
   "cell_type": "markdown",
   "metadata": {
    "colab_type": "text",
    "id": "bbWZQp0no4Px"
   },
   "source": [
    "# Part 1: Learning boolean operators using a feed-forward neural networks\n",
    "\n",
    "In this section, you will learn how to create a simple feed-forward neural network in Python by using [Keras](https://keras.io/). Feed-forward neural networks are one of the simplest types, because all information is passed on in one direction (forward!), with no information being 'looped' back into the netwokr. \n",
    "\n",
    "Keras is a high-level neural network API that runs on top of lower level neural network libraries like Tensorflow or Theano. Since the Tensorflow 2.0 official release, Keras is integrated as a back-end to the Tensorflow framework. Keras will let use easily build neural networks by simply defining what their design architecture should be. \n",
    "\n",
    "Before we get started, make sure you have installed Keras with a backend of your choice. Follow the [official instructions](https://keras.io/#installation) by Keras or get started quickly by running the following commands:\n",
    "\n",
    "```\n",
    "pip3 install tensorflow\n",
    "pip3 install keras\n",
    "```\n",
    "\n",
    "This is all you need to do to get started creating your first neural network! Now we are ready to create your first neural network that simulates the boolean AND operator."
   ]
  },
  {
   "cell_type": "markdown",
   "metadata": {
    "colab_type": "text",
    "id": "4Wc1lCZgo4Pz"
   },
   "source": [
    "## Model definition\n",
    "\n",
    "To set up our neural network, e.g. define our 'model', we have to import some modules from Keras:"
   ]
  },
  {
   "cell_type": "code",
   "execution_count": 1,
   "metadata": {},
   "outputs": [
    {
     "name": "stderr",
     "output_type": "stream",
     "text": [
      "/Users/varunravivarma/py3_virtualenv/jupe/lib/python3.7/site-packages/pydot.py:18: UserWarning: Couldn't import dot_parser, loading of dot files will not be possible.\n"
     ]
    }
   ],
   "source": [
    "seed_value = 0\n",
    "# Set the global pythonhashseed variable to zero for reproducibility\n",
    "import os\n",
    "os.environ['PYTHONHASHSEED']=str(seed_value)\n",
    "# Set the `numpy` pseudo-random generator at a fixed value\n",
    "import numpy as np\n",
    "np.random.seed(seed_value)\n",
    "# Setting the tensorflow seed\n",
    "import tensorflow as tf\n",
    "tf.random.set_seed(seed_value)"
   ]
  },
  {
   "cell_type": "code",
   "execution_count": 2,
   "metadata": {
    "colab": {},
    "colab_type": "code",
    "id": "NViEr0Cso4P0"
   },
   "outputs": [],
   "source": [
    "from tensorflow.keras.models import Sequential\n",
    "from tensorflow.keras.layers import Dense\n",
    "from tensorflow.keras.optimizers import SGD"
   ]
  },
  {
   "cell_type": "markdown",
   "metadata": {
    "colab_type": "text",
    "id": "d6ZKSj9Po4QB"
   },
   "source": [
    "Now we want to create very simple perceptron model that has two binary input nodes (that accept `0`'s or `1`'s), and a single binary output node that outputs a  `1` if and only if both inputs were `1`, and otherwise will output a `0`. (Can you already guess what this network is?)\n",
    "\n",
    "In Keras, we can create a simple feed-forward neural network by creating what's termed a  [`Sequential`](https://keras.io/models/sequential/) model. Within a `Sequential` model, an arbitrary number of layers can be defined. The last layer is the output layer and any preceding layers are hidden layers. The first layer in the model requires information about the input shape, i.e. how many nodes are 'sending through' input. Note that the input layer is not explicitly defined as a layer in a `Sequential` Keras model.\n",
    "\n",
    "The model can be defined the following way:"
   ]
  },
  {
   "cell_type": "code",
   "execution_count": 3,
   "metadata": {
    "colab": {
     "base_uri": "https://localhost:8080/",
     "height": 258
    },
    "colab_type": "code",
    "id": "0shVE38Ko4QC",
    "outputId": "120bd266-cc64-4ca6-f65c-55af7fb344a8"
   },
   "outputs": [
    {
     "name": "stdout",
     "output_type": "stream",
     "text": [
      "Model: \"sequential\"\n",
      "_________________________________________________________________\n",
      "Layer (type)                 Output Shape              Param #   \n",
      "=================================================================\n",
      "output (Dense)               (None, 1)                 3         \n",
      "=================================================================\n",
      "Total params: 3\n",
      "Trainable params: 3\n",
      "Non-trainable params: 0\n",
      "_________________________________________________________________\n"
     ]
    }
   ],
   "source": [
    "model = Sequential([\n",
    "    Dense(1, input_dim=2, activation='tanh', name='output')\n",
    "])\n",
    "\n",
    "model.summary()"
   ]
  },
  {
   "cell_type": "markdown",
   "metadata": {
    "colab_type": "text",
    "id": "E87CgB1Do4QG"
   },
   "source": [
    "        This command will create a feed-forward network (a `model`) that contains a single layer with one node (one unit). The [`Dense`](https://keras.io/layers/core/) layer type means that this is a type of basic neural network layer in which all units are connected to all units in the previous layer. Inside the `Dense` expression we also say how many input layers there are with the input_dim=2 information. For this network we have also used the `tanh` [activation function](https://keras.io/activations/).  Note also that by default, every unit in a dense layer also has a bias, so this does not need to be explicitly defined. \n",
    "After defining the model, it has be be compiled, i.e. it has to be run, in a process where the weights will be modified depending on how well the network dos in predicting the output given some input. "
   ]
  },
  {
   "cell_type": "code",
   "execution_count": 4,
   "metadata": {
    "colab": {},
    "colab_type": "code",
    "id": "CGhXnGWFo4QI"
   },
   "outputs": [],
   "source": [
    "model.compile(loss='mean_squared_error', \n",
    "              optimizer=SGD(lr=0.3, momentum=0.8),\n",
    "              metrics=['accuracy'])"
   ]
  },
  {
   "cell_type": "markdown",
   "metadata": {
    "colab_type": "text",
    "id": "5gXCkUkFo4QS"
   },
   "source": [
    "In compiling, the model will try to minimize error, also known as `loss`. We use the mean squared error [loss](https://keras.io/losses/) function to cacluate loss with the stochastic gradient descent [optimizer](https://keras.io/optimizers/). (It is a good idea to read a bit about this and familiarize yourself with these terms). The learning rate and momentum often have to be chosen by trial an error. Frequently, getting the fastest or most accurate performance are considerations, but for our purposes, how realistic they are for simulating human learning might be a consideration. The `compile` method also allows definition of [metrics](https://keras.io/metrics/), i.e. ways in which you can evaluate the quality of the results. This does not influence training, but just gives us some nice information to analyze (and hopefully graph!)."
   ]
  },
  {
   "cell_type": "markdown",
   "metadata": {
    "colab_type": "text",
    "id": "DAg-bVlCo4QU"
   },
   "source": [
    "## Training\n",
    "\n",
    "Before we start training however, we need some training data. Python machine learning conventions are that input data is defined as an `X` variable and the corresponding target output as `y`. Recall that our model has only two input nodes, so this means the only possibilities (since these are binary input nodes) is one of four possible combinations of `0`s and `1`s. See below. So we will need two-dimensional input values and are trying to learn to predict the one-dimensional output given in `y` such athat only when both input values are `1` do we output `1`.  "
   ]
  },
  {
   "cell_type": "code",
   "execution_count": 5,
   "metadata": {
    "colab": {},
    "colab_type": "code",
    "id": "CapAvJ2Qo4QV"
   },
   "outputs": [],
   "source": [
    "import numpy as np"
   ]
  },
  {
   "cell_type": "code",
   "execution_count": 6,
   "metadata": {
    "colab": {},
    "colab_type": "code",
    "id": "2uH5fG8Eo4RY"
   },
   "outputs": [],
   "source": [
    "X_and = np.array([(0,0), (1,0), (0,1), (1,1)])\n",
    "y_and = np.array([0, 0, 0, 1])"
   ]
  },
  {
   "cell_type": "markdown",
   "metadata": {
    "colab_type": "text",
    "id": "cCfnhABAo4SN"
   },
   "source": [
    "Now we can train our model. We'll store the training in `history`. We'll train for 15 epochs, which means that we'll run the entire training set (shuffled) trhough the network, each time revising the weights based on the difference between our output and `y`, 15 times. We would also like to know what is going on as it's running, so we'll ask for some intermittend output information (e.g. `verbose=2`)."
   ]
  },
  {
   "cell_type": "code",
   "execution_count": 7,
   "metadata": {
    "colab": {
     "base_uri": "https://localhost:8080/",
     "height": 544
    },
    "colab_type": "code",
    "id": "VcVUzriLo4SP",
    "outputId": "7510bdb8-4243-437a-a189-2ba14aff3f76"
   },
   "outputs": [
    {
     "name": "stdout",
     "output_type": "stream",
     "text": [
      "Train on 4 samples\n",
      "Epoch 1/15\n",
      "4/4 - 0s - loss: 1.0780 - accuracy: 0.7500\n",
      "Epoch 2/15\n",
      "4/4 - 0s - loss: 0.8720 - accuracy: 0.7500\n",
      "Epoch 3/15\n",
      "4/4 - 0s - loss: 0.4268 - accuracy: 0.7500\n",
      "Epoch 4/15\n",
      "4/4 - 0s - loss: 0.3691 - accuracy: 0.2500\n",
      "Epoch 5/15\n",
      "4/4 - 0s - loss: 0.4877 - accuracy: 0.2500\n",
      "Epoch 6/15\n",
      "4/4 - 0s - loss: 0.5161 - accuracy: 0.2500\n",
      "Epoch 7/15\n",
      "4/4 - 0s - loss: 0.4879 - accuracy: 0.2500\n",
      "Epoch 8/15\n",
      "4/4 - 0s - loss: 0.4052 - accuracy: 0.2500\n",
      "Epoch 9/15\n",
      "4/4 - 0s - loss: 0.2576 - accuracy: 0.5000\n",
      "Epoch 10/15\n",
      "4/4 - 0s - loss: 0.0980 - accuracy: 1.0000\n",
      "Epoch 11/15\n",
      "4/4 - 0s - loss: 0.1447 - accuracy: 0.7500\n",
      "Epoch 12/15\n",
      "4/4 - 0s - loss: 0.2194 - accuracy: 0.7500\n",
      "Epoch 13/15\n",
      "4/4 - 0s - loss: 0.1158 - accuracy: 1.0000\n",
      "Epoch 14/15\n",
      "4/4 - 0s - loss: 0.1037 - accuracy: 1.0000\n",
      "Epoch 15/15\n",
      "4/4 - 0s - loss: 0.1409 - accuracy: 1.0000\n"
     ]
    }
   ],
   "source": [
    "history = model.fit(X_and, y_and, epochs=15, shuffle=True, verbose=2)"
   ]
  },
  {
   "cell_type": "markdown",
   "metadata": {
    "colab_type": "text",
    "id": "BD-GMvhoo4Sa"
   },
   "source": [
    "Well, an accuracy of `1.0` seems good. Lets look at our training process:"
   ]
  },
  {
   "cell_type": "code",
   "execution_count": 8,
   "metadata": {
    "colab": {},
    "colab_type": "code",
    "id": "oCY58XAIo4Se"
   },
   "outputs": [],
   "source": [
    "import matplotlib.pyplot as plt"
   ]
  },
  {
   "cell_type": "markdown",
   "metadata": {
    "colab_type": "text",
    "id": "dNkQszUGo4Sm"
   },
   "source": [
    "With the below code snippet, you can visualise the loss and the accuracy progression of your trained model through the `'loss'` and `'acc'` keys of the dictionary object `history.history`: "
   ]
  },
  {
   "cell_type": "code",
   "execution_count": 9,
   "metadata": {
    "colab": {
     "base_uri": "https://localhost:8080/",
     "height": 573
    },
    "colab_type": "code",
    "id": "k19ciQh2o4So",
    "outputId": "29fa6744-e47d-4dac-ebf0-bdd6e05994b1"
   },
   "outputs": [
    {
     "data": {
      "image/png": "[encoded data removed]",
      "text/plain": [
       "<Figure size 432x288 with 1 Axes>"
      ]
     },
     "metadata": {
      "needs_background": "light"
     },
     "output_type": "display_data"
    },
    {
     "data": {
      "image/png": "[encoded data removed]",
      "text/plain": [
       "<Figure size 432x288 with 1 Axes>"
      ]
     },
     "metadata": {
      "needs_background": "light"
     },
     "output_type": "display_data"
    }
   ],
   "source": [
    "plt.plot(history.history['loss'])\n",
    "plt.title('Model loss (lower is better)')\n",
    "plt.ylabel('Mean Squared Error')\n",
    "plt.xlabel('Epoch')\n",
    "plt.show()\n",
    "\n",
    "plt.plot(history.history['accuracy'])\n",
    "plt.title('Model accuracy (higher is better)')\n",
    "plt.ylabel('Accuracy')\n",
    "plt.xlabel('Epoch')\n",
    "plt.show()"
   ]
  },
  {
   "cell_type": "markdown",
   "metadata": {
    "colab_type": "text",
    "id": "5m0CepRzo4Ss"
   },
   "source": [
    "Note that the loss decreases nicely, but it is not yet completely zero. For deterministic problems like a simple AND operation this would be possible but in real world scenario's having a zero loss is often impossible."
   ]
  },
  {
   "cell_type": "markdown",
   "metadata": {
    "colab_type": "text",
    "id": "rzb5EXVao4Sw"
   },
   "source": [
    "## Exercise 1\n",
    " A) Draw the architecture diagram of the neural network with circles and arrows. How many nodes does the model have (incl. bias)?. \n",
    " \n",
    "### Ans\n",
    " ![](model_plot.png)\n",
    " The model has 4 nodes (2 input nodes, 1 bias node and 1 output node).\n",
    " \n",
    " \n",
    " B)What is the formula that describes the output `y'` with respect to the inputs `(x1,x2)` (Hint: use w1 and w2 for weights)?\n",
    " \n",
    "### Ans\n",
    "\\begin{equation*}\n",
    "y' = tanh(w_{1} * x_{1} + w_{2} * x_{2} + w_{b} * b)\n",
    "\\end{equation*}\n",
    " \n",
    " C) What is the loss function used for training this model? Provide it's formula for model predictions `y'` and target outputs `y`.\n",
    " \n",
    "### Ans\n",
    "The mean squared error is used for training this model. The formula is as follows:\n",
    "\\begin{equation*}\n",
    "MSE = \\frac{1}{n}{\\sum_{i=0}^{n}(y_{i}-y'_{i})^{2}}\n",
    "\\end{equation*}\n",
    "where $n$ is the number of samples.\n"
   ]
  },
  {
   "cell_type": "markdown",
   "metadata": {
    "colab_type": "text",
    "id": "KCsjC4M4o4Sy"
   },
   "source": [
    "## Network analysis"
   ]
  },
  {
   "cell_type": "markdown",
   "metadata": {
    "colab_type": "text",
    "id": "TVjFVJL5o4S0"
   },
   "source": [
    "To see what the network learned, we can visualize the model weights using a special function that is defined in `plot_functions.py`. This will show us the network with its weights, showing positive weights in red, and negative weights in blue. "
   ]
  },
  {
   "cell_type": "code",
   "execution_count": 10,
   "metadata": {
    "colab": {},
    "colab_type": "code",
    "id": "2STkRkUho4S2"
   },
   "outputs": [],
   "source": [
    "from plot_functions import plot_weight_matrix, plot_activation_matrix"
   ]
  },
  {
   "cell_type": "code",
   "execution_count": 11,
   "metadata": {
    "colab": {
     "base_uri": "https://localhost:8080/",
     "height": 320
    },
    "colab_type": "code",
    "id": "KzomXqCgo4S5",
    "outputId": "d48f00dc-7d3d-4202-cc38-c72a33945853"
   },
   "outputs": [
    {
     "data": {
      "image/png": "[encoded data removed]",
      "text/plain": [
       "<Figure size 432x288 with 2 Axes>"
      ]
     },
     "metadata": {
      "needs_background": "light"
     },
     "output_type": "display_data"
    }
   ],
   "source": [
    "plot_weight_matrix(model)"
   ]
  },
  {
   "cell_type": "markdown",
   "metadata": {
    "colab_type": "text",
    "id": "6yGMcSvyo4S9"
   },
   "source": [
    "Now we see that the output is only above 0.5 if both input values are 1. Let's see what the exact outputs are for our four possible inputs:"
   ]
  },
  {
   "cell_type": "code",
   "execution_count": 12,
   "metadata": {
    "colab": {
     "base_uri": "https://localhost:8080/",
     "height": 374
    },
    "colab_type": "code",
    "id": "SNf5h62so4S-",
    "outputId": "a64d6dd3-c788-46f8-d33c-46e36c248f43"
   },
   "outputs": [
    {
     "name": "stderr",
     "output_type": "stream",
     "text": [
      "/Users/varunravivarma/py3_virtualenv/jupe/lib/python3.7/site-packages/matplotlib/text.py:1150: FutureWarning: elementwise comparison failed; returning scalar instead, but in the future will perform elementwise comparison\n",
      "  if s != self._text:\n"
     ]
    },
    {
     "data": {
      "image/png": "[encoded data removed]",
      "text/plain": [
       "<Figure size 432x288 with 2 Axes>"
      ]
     },
     "metadata": {
      "needs_background": "light"
     },
     "output_type": "display_data"
    }
   ],
   "source": [
    "plot_activation_matrix(model, X_and, vmin=0, vmax=1)"
   ]
  },
  {
   "cell_type": "markdown",
   "metadata": {
    "colab_type": "text",
    "id": "5hyy9q94o4Tb"
   },
   "source": [
    "## Exercise 2"
   ]
  },
  {
   "cell_type": "markdown",
   "metadata": {
    "colab_type": "text",
    "id": "5hyy9q94o4Tb"
   },
   "source": [
    " A) Re-run the model, but this time only run 4 or 5 Epochs (so that you don't get 1.00 accuracy). Then plot the weight matrix for the model. Multiply the inputs by the weights to get the output. Explain how the model works and why it doesn't get everything correct. "
   ]
  },
  {
   "cell_type": "code",
   "execution_count": 13,
   "metadata": {},
   "outputs": [
    {
     "name": "stdout",
     "output_type": "stream",
     "text": [
      "Train on 4 samples\n",
      "Epoch 1/5\n",
      "4/4 - 0s - loss: 0.7218 - accuracy: 0.7500\n",
      "Epoch 2/5\n",
      "4/4 - 0s - loss: 0.3861 - accuracy: 0.7500\n",
      "Epoch 3/5\n",
      "4/4 - 0s - loss: 0.2399 - accuracy: 0.7500\n",
      "Epoch 4/5\n",
      "4/4 - 0s - loss: 0.3446 - accuracy: 0.2500\n",
      "Epoch 5/5\n",
      "4/4 - 0s - loss: 0.3604 - accuracy: 0.5000\n"
     ]
    },
    {
     "data": {
      "image/png": "[encoded data removed]",
      "text/plain": [
       "<Figure size 432x288 with 2 Axes>"
      ]
     },
     "metadata": {
      "needs_background": "light"
     },
     "output_type": "display_data"
    }
   ],
   "source": [
    "# Initializing a new model, since the old model still uses the weights from previous training session\n",
    "model_2 = Sequential([\n",
    "    Dense(1, input_dim=2, activation='tanh', name='output')\n",
    "])\n",
    "model_2.compile(loss='mean_squared_error', \n",
    "              optimizer=SGD(lr=0.3, momentum=0.8),\n",
    "              metrics=['accuracy'])\n",
    "# Training the new model for 5 epochs\n",
    "model_2.fit(X_and, y_and, epochs=5, shuffle=True, verbose=2)\n",
    "plot_weight_matrix(model_2)"
   ]
  },
  {
   "cell_type": "markdown",
   "metadata": {},
   "source": [
    "The output computed by the neural network can be computed using the following equation:\n",
    "\\begin{equation*}\n",
    "\\begin{aligned}\n",
    "y' =& tanh(w_{1} * x_{1}+w_{2} * x_{2}+w_{b} * b)\\\\\n",
    "=& tanh(0.8 * x_{1}+0.381 * x_{2}+0.347)\n",
    "\\end{aligned}\n",
    "\\end{equation*}\n",
    "\n",
    "Tabulating the output $ y' $ that is calculated by the model:\n",
    "\n",
    "| $ x_{1} $ | $ x_{2} $ | $ y' $ |\n",
    "|-----------|-----------|--------|\n",
    "|     0     |     0     |  0.334 |\n",
    "|     1     |     0     |  0.817 |\n",
    "|     0     |     1     |  0.622 |\n",
    "|     1     |     1     |  0.910 |\n",
    "\n",
    "\n",
    "The model is optimized with SGD with momentum, with a high learning rate of $0.3$ and a Nesterov momentum value of $0.8$. This could enable the model to skip over local minima over multiple epochs of training, but over smaller epochs, we see that the model fails to compute the optimal weights. This could be due to the fact that there is increased noise in the update of weights due to hugh values of momentum over the 5 epochs of training.\n",
    "Since the weights are not optimised, the model is unable to classify some inputs correctly (in this case the input $[1, 0]$ returns an output of $1$)."
   ]
  },
  {
   "cell_type": "markdown",
   "metadata": {
    "colab_type": "text",
    "id": "5hyy9q94o4Tb"
   },
   "source": [
    " B) Now that you know how to define and train a simple model, try to model the inclusive OR operator instead of AND using the same model. You don't have to change the model architecture: simply create a new training data and your own training data (X) and target output (y) for inclusive OR.\n",
    " "
   ]
  },
  {
   "cell_type": "code",
   "execution_count": 14,
   "metadata": {},
   "outputs": [
    {
     "name": "stdout",
     "output_type": "stream",
     "text": [
      "Train on 4 samples\n",
      "Epoch 1/30\n",
      "4/4 - 0s - loss: 1.1106 - accuracy: 0.5000\n",
      "Epoch 2/30\n",
      "4/4 - 0s - loss: 0.4447 - accuracy: 0.7500\n",
      "Epoch 3/30\n",
      "4/4 - 0s - loss: 0.1506 - accuracy: 0.7500\n",
      "Epoch 4/30\n",
      "4/4 - 0s - loss: 0.1684 - accuracy: 0.7500\n",
      "Epoch 5/30\n",
      "4/4 - 0s - loss: 0.1940 - accuracy: 0.7500\n",
      "Epoch 6/30\n",
      "4/4 - 0s - loss: 0.2078 - accuracy: 0.7500\n",
      "Epoch 7/30\n",
      "4/4 - 0s - loss: 0.2153 - accuracy: 0.7500\n",
      "Epoch 8/30\n",
      "4/4 - 0s - loss: 0.2192 - accuracy: 0.7500\n",
      "Epoch 9/30\n",
      "4/4 - 0s - loss: 0.2212 - accuracy: 0.7500\n",
      "Epoch 10/30\n",
      "4/4 - 0s - loss: 0.2218 - accuracy: 0.7500\n",
      "Epoch 11/30\n",
      "4/4 - 0s - loss: 0.2215 - accuracy: 0.7500\n",
      "Epoch 12/30\n",
      "4/4 - 0s - loss: 0.2203 - accuracy: 0.7500\n",
      "Epoch 13/30\n",
      "4/4 - 0s - loss: 0.2184 - accuracy: 0.7500\n",
      "Epoch 14/30\n",
      "4/4 - 0s - loss: 0.2156 - accuracy: 0.7500\n",
      "Epoch 15/30\n",
      "4/4 - 0s - loss: 0.2119 - accuracy: 0.7500\n",
      "Epoch 16/30\n",
      "4/4 - 0s - loss: 0.2071 - accuracy: 0.7500\n",
      "Epoch 17/30\n",
      "4/4 - 0s - loss: 0.2009 - accuracy: 0.7500\n",
      "Epoch 18/30\n",
      "4/4 - 0s - loss: 0.1927 - accuracy: 0.7500\n",
      "Epoch 19/30\n",
      "4/4 - 0s - loss: 0.1819 - accuracy: 0.7500\n",
      "Epoch 20/30\n",
      "4/4 - 0s - loss: 0.1675 - accuracy: 0.7500\n",
      "Epoch 21/30\n",
      "4/4 - 0s - loss: 0.1482 - accuracy: 0.7500\n",
      "Epoch 22/30\n",
      "4/4 - 0s - loss: 0.1226 - accuracy: 0.7500\n",
      "Epoch 23/30\n",
      "4/4 - 0s - loss: 0.0898 - accuracy: 0.7500\n",
      "Epoch 24/30\n",
      "4/4 - 0s - loss: 0.0524 - accuracy: 1.0000\n",
      "Epoch 25/30\n",
      "4/4 - 0s - loss: 0.0190 - accuracy: 1.0000\n",
      "Epoch 26/30\n",
      "4/4 - 0s - loss: 0.0019 - accuracy: 1.0000\n",
      "Epoch 27/30\n",
      "4/4 - 0s - loss: 0.0038 - accuracy: 1.0000\n",
      "Epoch 28/30\n",
      "4/4 - 0s - loss: 0.0144 - accuracy: 1.0000\n",
      "Epoch 29/30\n",
      "4/4 - 0s - loss: 0.0227 - accuracy: 1.0000\n",
      "Epoch 30/30\n",
      "4/4 - 0s - loss: 0.0241 - accuracy: 1.0000\n"
     ]
    }
   ],
   "source": [
    "\n",
    "X_or = np.array([(0,0), (1,0), (0,1), (1,1)])\n",
    "y_or = np.array([0, 1, 1, 1])\n",
    "# Initializing a new model, since the old model still uses the weights from previous training session\n",
    "model_3 = Sequential([\n",
    "    Dense(1, input_dim=2, activation='tanh', name='output')\n",
    "])\n",
    "model_3.compile(loss='mean_squared_error', \n",
    "              optimizer=SGD(lr=0.3, momentum=0.8),\n",
    "              metrics=['accuracy'])\n",
    "# Fitting the model on OR data\n",
    "run_or = model_3.fit(X_or, y_or, epochs=30, shuffle=True, verbose=2)"
   ]
  },
  {
   "cell_type": "markdown",
   "metadata": {
    "colab_type": "text",
    "id": "5hyy9q94o4Tb"
   },
   "source": [
    " C) What is the resulting loss compared to the AND implementation? Plot the loss and accuracy and include these plots in your answer. Is the model able to deal correctly with inclusive OR ? How does the model work? Explain your answer by referring to the weights learned. \n",
    " "
   ]
  },
  {
   "cell_type": "code",
   "execution_count": 15,
   "metadata": {},
   "outputs": [
    {
     "data": {
      "image/png": "[encoded data removed]",
      "text/plain": [
       "<Figure size 432x288 with 1 Axes>"
      ]
     },
     "metadata": {
      "needs_background": "light"
     },
     "output_type": "display_data"
    },
    {
     "data": {
      "image/png": "[encoded data removed]",
      "text/plain": [
       "<Figure size 432x288 with 1 Axes>"
      ]
     },
     "metadata": {
      "needs_background": "light"
     },
     "output_type": "display_data"
    },
    {
     "data": {
      "image/png": "[encoded data removed]",
      "text/plain": [
       "<Figure size 432x288 with 2 Axes>"
      ]
     },
     "metadata": {
      "needs_background": "light"
     },
     "output_type": "display_data"
    }
   ],
   "source": [
    "plt.plot(run_or.history['loss'])\n",
    "plt.title('Model loss (lower is better)')\n",
    "plt.ylabel('Mean Squared Error')\n",
    "plt.xlabel('Epoch')\n",
    "plt.show()\n",
    "\n",
    "plt.plot(run_or.history['accuracy'])\n",
    "plt.title('Model accuracy (higher is better)')\n",
    "plt.ylabel('Accuracy')\n",
    "plt.xlabel('Epoch')\n",
    "plt.show()\n",
    "\n",
    "plot_weight_matrix(model_3)"
   ]
  },
  {
   "cell_type": "markdown",
   "metadata": {},
   "source": [
    "The model takes longer to learn the OR function as compared to the AND function. At $15$ epochs the model is only able to learn to represent $3$ out of $4$ inputs to correct outputs. The weights from training on the OR data are significantly different as compared to the weights for the AND data. Classification is learnt as a representation in a vector space, based on the inputs and labels given to the model. This is reflected in the higher weights of the OR model as compared to the AND model. The outputs from training on the OR data are as follows:\n",
    "\n",
    "\\begin{equation*}\n",
    "\\begin{aligned}\n",
    "y' = tanh(1.946 * x_{1}+1.989 * x_{2} - 0.269 * b)\n",
    "\\end{aligned}\n",
    "\\end{equation*}\n",
    "\n",
    "| $ x_{1} $ | $ x_{2} $ | $ y' $ |\n",
    "|-----------|-----------|--------|\n",
    "|     0     |     0     | -0.263 |\n",
    "|     1     |     0     |  0.932 |\n",
    "|     0     |     1     |  0.938 |\n",
    "|     1     |     1     |  0.999 |\n",
    "\n",
    "Thus the model learns to represent the OR function over longer training epochs."
   ]
  },
  {
   "cell_type": "markdown",
   "metadata": {
    "colab_type": "text",
    "id": "5hyy9q94o4Tb"
   },
   "source": [
    " D) Try to do the same for the exclusive OR (XOR) operator. Create training and target data and use the same model to train. What do you notice? Explain what problems you encounter and why.\n",
    " "
   ]
  },
  {
   "cell_type": "code",
   "execution_count": 16,
   "metadata": {},
   "outputs": [
    {
     "name": "stdout",
     "output_type": "stream",
     "text": [
      "Train on 4 samples\n",
      "Epoch 1/15\n",
      "4/4 - 0s - loss: 1.4863 - accuracy: 0.5000\n",
      "Epoch 2/15\n",
      "4/4 - 0s - loss: 0.8791 - accuracy: 0.5000\n",
      "Epoch 3/15\n",
      "4/4 - 0s - loss: 0.2820 - accuracy: 0.5000\n",
      "Epoch 4/15\n",
      "4/4 - 0s - loss: 0.4078 - accuracy: 0.5000\n",
      "Epoch 5/15\n",
      "4/4 - 0s - loss: 0.4577 - accuracy: 0.5000\n",
      "Epoch 6/15\n",
      "4/4 - 0s - loss: 0.4754 - accuracy: 0.5000\n",
      "Epoch 7/15\n",
      "4/4 - 0s - loss: 0.4832 - accuracy: 0.5000\n",
      "Epoch 8/15\n",
      "4/4 - 0s - loss: 0.4872 - accuracy: 0.5000\n",
      "Epoch 9/15\n",
      "4/4 - 0s - loss: 0.4895 - accuracy: 0.5000\n",
      "Epoch 10/15\n",
      "4/4 - 0s - loss: 0.4909 - accuracy: 0.5000\n",
      "Epoch 11/15\n",
      "4/4 - 0s - loss: 0.4918 - accuracy: 0.5000\n",
      "Epoch 12/15\n",
      "4/4 - 0s - loss: 0.4924 - accuracy: 0.5000\n",
      "Epoch 13/15\n",
      "4/4 - 0s - loss: 0.4927 - accuracy: 0.5000\n",
      "Epoch 14/15\n",
      "4/4 - 0s - loss: 0.4929 - accuracy: 0.5000\n",
      "Epoch 15/15\n",
      "4/4 - 0s - loss: 0.4931 - accuracy: 0.5000\n"
     ]
    },
    {
     "data": {
      "image/png": "[encoded data removed]",
      "text/plain": [
       "<Figure size 432x288 with 1 Axes>"
      ]
     },
     "metadata": {
      "needs_background": "light"
     },
     "output_type": "display_data"
    },
    {
     "data": {
      "image/png": "[encoded data removed]",
      "text/plain": [
       "<Figure size 432x288 with 1 Axes>"
      ]
     },
     "metadata": {
      "needs_background": "light"
     },
     "output_type": "display_data"
    },
    {
     "data": {
      "image/png": "[encoded data removed]",
      "text/plain": [
       "<Figure size 432x288 with 2 Axes>"
      ]
     },
     "metadata": {
      "needs_background": "light"
     },
     "output_type": "display_data"
    }
   ],
   "source": [
    "X_xor = np.array([(0,0), (1,0), (0,1), (1,1)])\n",
    "y_xor = np.array([0, 1, 1, 0])\n",
    "\n",
    "# Initializing a new model, since the old model still uses the weights from previous training session\n",
    "model_4 = Sequential([\n",
    "    Dense(1, input_dim=2, activation='tanh', name='output')\n",
    "])\n",
    "model_4.compile(loss='mean_squared_error', \n",
    "              optimizer=SGD(lr=0.3, momentum=0.8),\n",
    "              metrics=['accuracy'])\n",
    "\n",
    "run_xor = model_4.fit(X_xor, y_xor, epochs=15, shuffle=True, verbose=2)\n",
    "\n",
    "plt.plot(run_xor.history['loss'])\n",
    "plt.title('Model loss (lower is better)')\n",
    "plt.ylabel('Mean Squared Error')\n",
    "plt.xlabel('Epoch')\n",
    "plt.show()\n",
    "\n",
    "plt.plot(run_xor.history['accuracy'])\n",
    "plt.title('Model accuracy (higher is better)')\n",
    "plt.ylabel('Accuracy')\n",
    "plt.xlabel('Epoch')\n",
    "plt.show()\n",
    "\n",
    "plot_weight_matrix(model_4)"
   ]
  },
  {
   "cell_type": "markdown",
   "metadata": {},
   "source": [
    "The equation generated from training on the XOR data are as follows:\n",
    "\n",
    "\\begin{equation*}\n",
    "\\begin{aligned}\n",
    "y' = tanh(0.827 * x_{1}+1.092 * x_{2} +2.491)\n",
    "\\end{aligned}\n",
    "\\end{equation*}\n",
    "\n",
    "\n",
    "| $ x_{1} $ | $ x_{2} $ | $ y' $ |\n",
    "|-----------|-----------|--------|\n",
    "|     0     |     0     |  0.986 |\n",
    "|     1     |     0     |  0.997 |\n",
    "|     0     |     1     |  0.998 |\n",
    "|     1     |     1     |  1.000 |\n",
    "\n",
    "The network misrepresents $[0, 0]$ and $[1, 1]$ since it is not able to identify an accurate hyperplane for the given dataset. The number of training epochs would not matter as the network would only learn to accurately represent $2$ of the $4$ data points. The bias is significntly larger compared to the networks that learned AND and OR functions."
   ]
  },
  {
   "cell_type": "markdown",
   "metadata": {
    "colab_type": "text",
    "id": "5hyy9q94o4Tb"
   },
   "source": [
    " E) Create a new network model that does solve the XOR problem. You can do this by adding an additional `Dense` layer with two units to the network. Note: to do this, the `input_dim` parameter will need to be moved to the first layer.\n",
    " "
   ]
  },
  {
   "cell_type": "code",
   "execution_count": 17,
   "metadata": {},
   "outputs": [
    {
     "name": "stdout",
     "output_type": "stream",
     "text": [
      "Model: \"sequential_4\"\n",
      "_________________________________________________________________\n",
      "Layer (type)                 Output Shape              Param #   \n",
      "=================================================================\n",
      "hidden1 (Dense)              (None, 2)                 6         \n",
      "_________________________________________________________________\n",
      "output (Dense)               (None, 1)                 3         \n",
      "=================================================================\n",
      "Total params: 9\n",
      "Trainable params: 9\n",
      "Non-trainable params: 0\n",
      "_________________________________________________________________\n"
     ]
    }
   ],
   "source": [
    "xor_model = Sequential()\n",
    "xor_model.add(Dense(2, input_dim=2, activation='tanh', name='hidden1'))\n",
    "xor_model.add(Dense(1, activation='tanh', name='output'))\n",
    "xor_model.compile(loss='mean_squared_error', \n",
    "              optimizer=SGD(lr=0.3, momentum=0.8),\n",
    "              metrics=['accuracy'])\n",
    "\n",
    "xor_model.summary()"
   ]
  },
  {
   "cell_type": "markdown",
   "metadata": {
    "colab_type": "text",
    "id": "5hyy9q94o4Tb"
   },
   "source": [
    " F) How successful is this new model? Also, how does your network solve the problem? Look at the weight matrix of your trained model, include it in your report with a short paragraph describing in words how the model works."
   ]
  },
  {
   "cell_type": "code",
   "execution_count": null,
   "metadata": {},
   "outputs": [],
   "source": [
    "run_xor2 = xor_model.fit(X_xor, y_xor, epochs=50, shuffle=True, verbose=2)\n",
    "plt.plot(run_xor2.history['loss'])\n",
    "plt.title('Model loss (lower is better)')\n",
    "plt.ylabel('Mean Squared Error')\n",
    "plt.xlabel('Epoch')\n",
    "plt.show()\n",
    "\n",
    "plt.plot(run_xor2.history['accuracy'])\n",
    "plt.title('Model accuracy (higher is better)')\n",
    "plt.ylabel('Accuracy')\n",
    "plt.xlabel('Epoch')\n",
    "plt.show()\n",
    "\n",
    "plot_weight_matrix(xor_model)"
   ]
  },
  {
   "cell_type": "markdown",
   "metadata": {},
   "source": [
    "---\n",
    "---\n",
    "---"
   ]
  },
  {
   "cell_type": "markdown",
   "metadata": {
    "colab_type": "text",
    "id": "LA5Ma8Mso4Tc"
   },
   "source": [
    "# Part 2: Modelling Sequential XOR with Simple Recurrent Neural Networks\n",
    "\n",
    "If you have completed the previous exercise, you have solved the XOR problem using a feed-forward neural network in Keras. But feed-forwad networks do not have any way to keep track of sequences of words in time, that may depend on each other. But language use does rely on information about the previous word for interpreting the next. To be able to include this kind of temporal/memory information in a simple network, we need to use something more complex than a feed forward model.  In this section,  we will create our first simple recurrent neural network. This network is a reproduction of the sequential XOR network by Elman (1990).\n",
    "\n",
    "The input for our network will be a single 3,000-bit which is created by concatenating 1,000 random XOR sequences. Every first and second bit is random and the third bit is the XOR of the first two values. The network tries to predict the next bit in the sequence. For this, the network needs to remember information about previous inputs since that is the only way how every third input can be predicted correctly.\n",
    "\n",
    "_Elman, J. L. (1990). Finding structure in time. Cognitive science, 14(2), 179-211._"
   ]
  },
  {
   "cell_type": "code",
   "execution_count": 19,
   "metadata": {
    "colab": {},
    "colab_type": "code",
    "id": "GQ4AJt5Zo4Td"
   },
   "outputs": [],
   "source": [
    "np.random.seed(1990)  # Use random seed for reproducability"
   ]
  },
  {
   "cell_type": "markdown",
   "metadata": {
    "colab_type": "text",
    "id": "3vTnKyrmo4Tg"
   },
   "source": [
    "## Model definition\n",
    "\n",
    "Let's define a very simple network that has a single input and output unit. But we'll add more complexity by adding an additional dimension: memory for the output weights of the previous input, i.e. we'll keep some information about the step before the data we are analyzing. This will be accomplished by using what's called a `Time Distributed` unit, which will give us the memory we need. First, import necessary `keras` packages:"
   ]
  },
  {
   "cell_type": "code",
   "execution_count": 20,
   "metadata": {
    "colab": {},
    "colab_type": "code",
    "id": "YEbRFhBzo4Th"
   },
   "outputs": [],
   "source": [
    "from tensorflow.keras.layers import SimpleRNN, TimeDistributed\n",
    "from tensorflow.keras.initializers import Constant"
   ]
  },
  {
   "cell_type": "code",
   "execution_count": 21,
   "metadata": {
    "colab": {},
    "colab_type": "code",
    "id": "nck6i86Yo4Tn"
   },
   "outputs": [],
   "source": [
    "model = Sequential([\n",
    "    SimpleRNN(2, input_shape=(3000, 1),\n",
    "              return_sequences=True,\n",
    "              activation='tanh',\n",
    "              recurrent_initializer=Constant(0.5),\n",
    "              name='hidden'),\n",
    "    TimeDistributed(Dense(1, activation='sigmoid', name='output'))\n",
    "])\n",
    "\n",
    "model.compile(loss='mean_squared_error', \n",
    "              optimizer=SGD(lr=0.4, momentum=0.9),\n",
    "              metrics=['binary_accuracy'])"
   ]
  },
  {
   "cell_type": "markdown",
   "metadata": {
    "colab_type": "text",
    "id": "l0aqN3QKo4Tr"
   },
   "source": [
    "In the model above, we define a simple recurrent neural network with [`SimpleRNN`](https://keras.io/layers/recurrent/#simplernn) with 2 units in the recurrent hidden layer. Its input shape is `(3000, 1)` which corresponds to 3000 time steps with 1 dimension each. The `return_sequences=True` argument makes sure that activation is passed on to the next layer for every time step instead of only the final time step activation. We want that the network makes a seperate prediction for every time step, so the output layer is wrapped inside of `TimeDistributed`. This wrapper makes it possible to backpropagate for every time step consequtively instead of optimizing the complete sequence at once."
   ]
  },
  {
   "cell_type": "markdown",
   "metadata": {
    "colab_type": "text",
    "id": "G4Pfo8xfo4Ts"
   },
   "source": [
    "## Training\n",
    "\n",
    "Now we can create our training data. This is a concatenation of 1000 random XOR problems."
   ]
  },
  {
   "cell_type": "code",
   "execution_count": 22,
   "metadata": {
    "colab": {
     "base_uri": "https://localhost:8080/",
     "height": 34
    },
    "colab_type": "code",
    "id": "gBlwISxJo4Tw",
    "outputId": "c53d4db0-4867-474b-e672-73a2b5ea3547"
   },
   "outputs": [
    {
     "data": {
      "text/plain": [
       "((1, 3000, 1), (1, 3000, 1))"
      ]
     },
     "execution_count": 22,
     "metadata": {},
     "output_type": "execute_result"
    }
   ],
   "source": [
    "xor_data = np.array([(0,0,0), (0,1,1), (1,0,1), (1,1,0)])\n",
    "xor_sequence = np.ravel(xor_data[np.random.randint(4, size=1001)])\n",
    "\n",
    "X = xor_sequence[np.newaxis, :-3, np.newaxis]\n",
    "y = xor_sequence[np.newaxis, 1:-2, np.newaxis]\n",
    "\n",
    "X.shape, y.shape"
   ]
  },
  {
   "cell_type": "markdown",
   "metadata": {
    "colab_type": "text",
    "id": "KZNjpaV8o4UB"
   },
   "source": [
    "The X and y shapes must be `(input_size, timesteps, input_dim)`. We only train a single sequence, it has 3000 time steps and it has 1 dimension."
   ]
  },
  {
   "cell_type": "markdown",
   "metadata": {
    "colab_type": "text",
    "id": "9ZIjpGvoo4UD"
   },
   "source": [
    "Lets's look at how well the network can learn our training data:"
   ]
  },
  {
   "cell_type": "code",
   "execution_count": 23,
   "metadata": {
    "colab": {
     "base_uri": "https://localhost:8080/",
     "height": 1000
    },
    "colab_type": "code",
    "id": "cPhj0bxUo4UE",
    "outputId": "408b5f4a-9a24-4615-9ea3-58bcd5fee3c3"
   },
   "outputs": [
    {
     "name": "stdout",
     "output_type": "stream",
     "text": [
      "Train on 1 samples\n",
      "Epoch 1/300\n",
      "1/1 - 1s - loss: 0.3526 - binary_accuracy: 0.4890\n",
      "Epoch 2/300\n",
      "1/1 - 1s - loss: 0.3413 - binary_accuracy: 0.4887\n",
      "Epoch 3/300\n",
      "1/1 - 1s - loss: 0.3206 - binary_accuracy: 0.4880\n",
      "Epoch 4/300\n",
      "1/1 - 1s - loss: 0.2957 - binary_accuracy: 0.4830\n",
      "Epoch 5/300\n",
      "1/1 - 1s - loss: 0.2739 - binary_accuracy: 0.4223\n",
      "Epoch 6/300\n",
      "1/1 - 1s - loss: 0.2615 - binary_accuracy: 0.5133\n",
      "Epoch 7/300\n",
      "1/1 - 1s - loss: 0.2598 - binary_accuracy: 0.5977\n",
      "Epoch 8/300\n",
      "1/1 - 1s - loss: 0.2649 - binary_accuracy: 0.5110\n",
      "Epoch 9/300\n",
      "1/1 - 1s - loss: 0.2715 - binary_accuracy: 0.5110\n",
      "Epoch 10/300\n",
      "1/1 - 1s - loss: 0.2764 - binary_accuracy: 0.5110\n",
      "Epoch 11/300\n",
      "1/1 - 1s - loss: 0.2786 - binary_accuracy: 0.5110\n",
      "Epoch 12/300\n",
      "1/1 - 1s - loss: 0.2781 - binary_accuracy: 0.5110\n",
      "Epoch 13/300\n",
      "1/1 - 1s - loss: 0.2751 - binary_accuracy: 0.5110\n",
      "Epoch 14/300\n",
      "1/1 - 1s - loss: 0.2705 - binary_accuracy: 0.5110\n",
      "Epoch 15/300\n",
      "1/1 - 1s - loss: 0.2650 - binary_accuracy: 0.5110\n",
      "Epoch 16/300\n",
      "1/1 - 1s - loss: 0.2595 - binary_accuracy: 0.5110\n",
      "Epoch 17/300\n",
      "1/1 - 1s - loss: 0.2548 - binary_accuracy: 0.5110\n",
      "Epoch 18/300\n",
      "1/1 - 1s - loss: 0.2516 - binary_accuracy: 0.5110\n",
      "Epoch 19/300\n",
      "1/1 - 1s - loss: 0.2502 - binary_accuracy: 0.5110\n",
      "Epoch 20/300\n",
      "1/1 - 1s - loss: 0.2503 - binary_accuracy: 0.4903\n",
      "Epoch 21/300\n",
      "1/1 - 1s - loss: 0.2516 - binary_accuracy: 0.4890\n",
      "Epoch 22/300\n",
      "1/1 - 1s - loss: 0.2535 - binary_accuracy: 0.4890\n",
      "Epoch 23/300\n",
      "1/1 - 1s - loss: 0.2553 - binary_accuracy: 0.4890\n",
      "Epoch 24/300\n",
      "1/1 - 1s - loss: 0.2567 - binary_accuracy: 0.4890\n",
      "Epoch 25/300\n",
      "1/1 - 1s - loss: 0.2573 - binary_accuracy: 0.4890\n",
      "Epoch 26/300\n",
      "1/1 - 1s - loss: 0.2572 - binary_accuracy: 0.4890\n",
      "Epoch 27/300\n",
      "1/1 - 1s - loss: 0.2564 - binary_accuracy: 0.4890\n",
      "Epoch 28/300\n",
      "1/1 - 1s - loss: 0.2551 - binary_accuracy: 0.4890\n",
      "Epoch 29/300\n",
      "1/1 - 1s - loss: 0.2537 - binary_accuracy: 0.4890\n",
      "Epoch 30/300\n",
      "1/1 - 1s - loss: 0.2523 - binary_accuracy: 0.4890\n",
      "Epoch 31/300\n",
      "1/1 - 1s - loss: 0.2513 - binary_accuracy: 0.4890\n",
      "Epoch 32/300\n",
      "1/1 - 1s - loss: 0.2506 - binary_accuracy: 0.4903\n",
      "Epoch 33/300\n",
      "1/1 - 1s - loss: 0.2504 - binary_accuracy: 0.4903\n",
      "Epoch 34/300\n",
      "1/1 - 1s - loss: 0.2504 - binary_accuracy: 0.5790\n",
      "Epoch 35/300\n",
      "1/1 - 1s - loss: 0.2507 - binary_accuracy: 0.5110\n",
      "Epoch 36/300\n",
      "1/1 - 1s - loss: 0.2511 - binary_accuracy: 0.5110\n",
      "Epoch 37/300\n",
      "1/1 - 1s - loss: 0.2514 - binary_accuracy: 0.5110\n",
      "Epoch 38/300\n",
      "1/1 - 1s - loss: 0.2515 - binary_accuracy: 0.5110\n",
      "Epoch 39/300\n",
      "1/1 - 1s - loss: 0.2515 - binary_accuracy: 0.5110\n",
      "Epoch 40/300\n",
      "1/1 - 1s - loss: 0.2512 - binary_accuracy: 0.5110\n",
      "Epoch 41/300\n",
      "1/1 - 1s - loss: 0.2509 - binary_accuracy: 0.5110\n",
      "Epoch 42/300\n",
      "1/1 - 1s - loss: 0.2506 - binary_accuracy: 0.5110\n",
      "Epoch 43/300\n",
      "1/1 - 1s - loss: 0.2503 - binary_accuracy: 0.5110\n",
      "Epoch 44/300\n",
      "1/1 - 1s - loss: 0.2500 - binary_accuracy: 0.5110\n",
      "Epoch 45/300\n",
      "1/1 - 1s - loss: 0.2499 - binary_accuracy: 0.5110\n",
      "Epoch 46/300\n",
      "1/1 - 1s - loss: 0.2499 - binary_accuracy: 0.5110\n",
      "Epoch 47/300\n",
      "1/1 - 1s - loss: 0.2499 - binary_accuracy: 0.5097\n",
      "Epoch 48/300\n",
      "1/1 - 1s - loss: 0.2501 - binary_accuracy: 0.5097\n",
      "Epoch 49/300\n",
      "1/1 - 1s - loss: 0.2502 - binary_accuracy: 0.5097\n",
      "Epoch 50/300\n",
      "1/1 - 1s - loss: 0.2503 - binary_accuracy: 0.5097\n",
      "Epoch 51/300\n",
      "1/1 - 1s - loss: 0.2503 - binary_accuracy: 0.5097\n",
      "Epoch 52/300\n",
      "1/1 - 1s - loss: 0.2503 - binary_accuracy: 0.5097\n",
      "Epoch 53/300\n",
      "1/1 - 1s - loss: 0.2502 - binary_accuracy: 0.5097\n",
      "Epoch 54/300\n",
      "1/1 - 1s - loss: 0.2501 - binary_accuracy: 0.5097\n",
      "Epoch 55/300\n",
      "1/1 - 1s - loss: 0.2500 - binary_accuracy: 0.5097\n",
      "Epoch 56/300\n",
      "1/1 - 1s - loss: 0.2499 - binary_accuracy: 0.5097\n",
      "Epoch 57/300\n",
      "1/1 - 1s - loss: 0.2498 - binary_accuracy: 0.5493\n",
      "Epoch 58/300\n",
      "1/1 - 1s - loss: 0.2498 - binary_accuracy: 0.5110\n",
      "Epoch 59/300\n",
      "1/1 - 1s - loss: 0.2498 - binary_accuracy: 0.5110\n",
      "Epoch 60/300\n",
      "1/1 - 1s - loss: 0.2498 - binary_accuracy: 0.5110\n",
      "Epoch 61/300\n",
      "1/1 - 1s - loss: 0.2498 - binary_accuracy: 0.5110\n",
      "Epoch 62/300\n",
      "1/1 - 1s - loss: 0.2498 - binary_accuracy: 0.5110\n",
      "Epoch 63/300\n",
      "1/1 - 1s - loss: 0.2498 - binary_accuracy: 0.5110\n",
      "Epoch 64/300\n",
      "1/1 - 1s - loss: 0.2498 - binary_accuracy: 0.5110\n",
      "Epoch 65/300\n",
      "1/1 - 1s - loss: 0.2498 - binary_accuracy: 0.5110\n",
      "Epoch 66/300\n",
      "1/1 - 1s - loss: 0.2498 - binary_accuracy: 0.5110\n",
      "Epoch 67/300\n",
      "1/1 - 1s - loss: 0.2498 - binary_accuracy: 0.5110\n",
      "Epoch 68/300\n",
      "1/1 - 1s - loss: 0.2497 - binary_accuracy: 0.5110\n",
      "Epoch 69/300\n",
      "1/1 - 1s - loss: 0.2497 - binary_accuracy: 0.5110\n",
      "Epoch 70/300\n",
      "1/1 - 1s - loss: 0.2497 - binary_accuracy: 0.5110\n",
      "Epoch 71/300\n",
      "1/1 - 1s - loss: 0.2497 - binary_accuracy: 0.5110\n",
      "Epoch 72/300\n",
      "1/1 - 1s - loss: 0.2496 - binary_accuracy: 0.5110\n",
      "Epoch 73/300\n",
      "1/1 - 1s - loss: 0.2496 - binary_accuracy: 0.5110\n",
      "Epoch 74/300\n",
      "1/1 - 1s - loss: 0.2496 - binary_accuracy: 0.5110\n",
      "Epoch 75/300\n",
      "1/1 - 1s - loss: 0.2496 - binary_accuracy: 0.5110\n",
      "Epoch 76/300\n",
      "1/1 - 1s - loss: 0.2496 - binary_accuracy: 0.5110\n",
      "Epoch 77/300\n",
      "1/1 - 1s - loss: 0.2496 - binary_accuracy: 0.5110\n",
      "Epoch 78/300\n",
      "1/1 - 1s - loss: 0.2496 - binary_accuracy: 0.5110\n",
      "Epoch 79/300\n",
      "1/1 - 1s - loss: 0.2496 - binary_accuracy: 0.5110\n",
      "Epoch 80/300\n",
      "1/1 - 1s - loss: 0.2495 - binary_accuracy: 0.5110\n",
      "Epoch 81/300\n",
      "1/1 - 1s - loss: 0.2495 - binary_accuracy: 0.5110\n",
      "Epoch 82/300\n",
      "1/1 - 1s - loss: 0.2495 - binary_accuracy: 0.5110\n",
      "Epoch 83/300\n",
      "1/1 - 1s - loss: 0.2494 - binary_accuracy: 0.5110\n",
      "Epoch 84/300\n",
      "1/1 - 1s - loss: 0.2494 - binary_accuracy: 0.5110\n",
      "Epoch 85/300\n",
      "1/1 - 1s - loss: 0.2494 - binary_accuracy: 0.5110\n",
      "Epoch 86/300\n",
      "1/1 - 1s - loss: 0.2494 - binary_accuracy: 0.5110\n",
      "Epoch 87/300\n",
      "1/1 - 1s - loss: 0.2493 - binary_accuracy: 0.5110\n",
      "Epoch 88/300\n",
      "1/1 - 1s - loss: 0.2493 - binary_accuracy: 0.5110\n",
      "Epoch 89/300\n",
      "1/1 - 1s - loss: 0.2493 - binary_accuracy: 0.5110\n",
      "Epoch 90/300\n",
      "1/1 - 1s - loss: 0.2493 - binary_accuracy: 0.5110\n",
      "Epoch 91/300\n",
      "1/1 - 1s - loss: 0.2492 - binary_accuracy: 0.5110\n",
      "Epoch 92/300\n",
      "1/1 - 1s - loss: 0.2492 - binary_accuracy: 0.5110\n",
      "Epoch 93/300\n",
      "1/1 - 1s - loss: 0.2491 - binary_accuracy: 0.5110\n",
      "Epoch 94/300\n",
      "1/1 - 1s - loss: 0.2491 - binary_accuracy: 0.5110\n",
      "Epoch 95/300\n",
      "1/1 - 1s - loss: 0.2491 - binary_accuracy: 0.5110\n",
      "Epoch 96/300\n",
      "1/1 - 1s - loss: 0.2490 - binary_accuracy: 0.5110\n",
      "Epoch 97/300\n",
      "1/1 - 1s - loss: 0.2490 - binary_accuracy: 0.5110\n",
      "Epoch 98/300\n",
      "1/1 - 1s - loss: 0.2489 - binary_accuracy: 0.5203\n",
      "Epoch 99/300\n",
      "1/1 - 1s - loss: 0.2488 - binary_accuracy: 0.5163\n",
      "Epoch 100/300\n",
      "1/1 - 1s - loss: 0.2488 - binary_accuracy: 0.5163\n",
      "Epoch 101/300\n",
      "1/1 - 1s - loss: 0.2487 - binary_accuracy: 0.5383\n",
      "Epoch 102/300\n",
      "1/1 - 1s - loss: 0.2487 - binary_accuracy: 0.5383\n",
      "Epoch 103/300\n",
      "1/1 - 1s - loss: 0.2486 - binary_accuracy: 0.5383\n",
      "Epoch 104/300\n",
      "1/1 - 1s - loss: 0.2485 - binary_accuracy: 0.5383\n",
      "Epoch 105/300\n",
      "1/1 - 1s - loss: 0.2485 - binary_accuracy: 0.5383\n",
      "Epoch 106/300\n",
      "1/1 - 1s - loss: 0.2484 - binary_accuracy: 0.5383\n",
      "Epoch 107/300\n",
      "1/1 - 1s - loss: 0.2483 - binary_accuracy: 0.5383\n",
      "Epoch 108/300\n",
      "1/1 - 1s - loss: 0.2482 - binary_accuracy: 0.5383\n",
      "Epoch 109/300\n",
      "1/1 - 1s - loss: 0.2481 - binary_accuracy: 0.5387\n",
      "Epoch 110/300\n",
      "1/1 - 1s - loss: 0.2481 - binary_accuracy: 0.5387\n",
      "Epoch 111/300\n",
      "1/1 - 1s - loss: 0.2480 - binary_accuracy: 0.5387\n",
      "Epoch 112/300\n",
      "1/1 - 1s - loss: 0.2479 - binary_accuracy: 0.5387\n",
      "Epoch 113/300\n",
      "1/1 - 1s - loss: 0.2478 - binary_accuracy: 0.5387\n",
      "Epoch 114/300\n",
      "1/1 - 1s - loss: 0.2477 - binary_accuracy: 0.5387\n",
      "Epoch 115/300\n",
      "1/1 - 1s - loss: 0.2476 - binary_accuracy: 0.5387\n",
      "Epoch 116/300\n",
      "1/1 - 1s - loss: 0.2475 - binary_accuracy: 0.5570\n",
      "Epoch 117/300\n",
      "1/1 - 1s - loss: 0.2474 - binary_accuracy: 0.5533\n",
      "Epoch 118/300\n",
      "1/1 - 1s - loss: 0.2473 - binary_accuracy: 0.5573\n",
      "Epoch 119/300\n",
      "1/1 - 1s - loss: 0.2472 - binary_accuracy: 0.5573\n",
      "Epoch 120/300\n",
      "1/1 - 1s - loss: 0.2471 - binary_accuracy: 0.5607\n",
      "Epoch 121/300\n",
      "1/1 - 1s - loss: 0.2470 - binary_accuracy: 0.5607\n",
      "Epoch 122/300\n",
      "1/1 - 1s - loss: 0.2469 - binary_accuracy: 0.5607\n",
      "Epoch 123/300\n",
      "1/1 - 1s - loss: 0.2468 - binary_accuracy: 0.5607\n",
      "Epoch 124/300\n",
      "1/1 - 1s - loss: 0.2466 - binary_accuracy: 0.5607\n",
      "Epoch 125/300\n",
      "1/1 - 1s - loss: 0.2465 - binary_accuracy: 0.5607\n",
      "Epoch 126/300\n",
      "1/1 - 1s - loss: 0.2464 - binary_accuracy: 0.5607\n",
      "Epoch 127/300\n",
      "1/1 - 1s - loss: 0.2463 - binary_accuracy: 0.5607\n",
      "Epoch 128/300\n",
      "1/1 - 1s - loss: 0.2462 - binary_accuracy: 0.5607\n",
      "Epoch 129/300\n",
      "1/1 - 1s - loss: 0.2461 - binary_accuracy: 0.5393\n",
      "Epoch 130/300\n",
      "1/1 - 1s - loss: 0.2460 - binary_accuracy: 0.5393\n",
      "Epoch 131/300\n",
      "1/1 - 1s - loss: 0.2458 - binary_accuracy: 0.5393\n",
      "Epoch 132/300\n",
      "1/1 - 1s - loss: 0.2457 - binary_accuracy: 0.5393\n",
      "Epoch 133/300\n",
      "1/1 - 1s - loss: 0.2456 - binary_accuracy: 0.5393\n",
      "Epoch 134/300\n",
      "1/1 - 1s - loss: 0.2455 - binary_accuracy: 0.5393\n",
      "Epoch 135/300\n",
      "1/1 - 1s - loss: 0.2454 - binary_accuracy: 0.5393\n",
      "Epoch 136/300\n",
      "1/1 - 1s - loss: 0.2453 - binary_accuracy: 0.5393\n",
      "Epoch 137/300\n",
      "1/1 - 1s - loss: 0.2451 - binary_accuracy: 0.5393\n",
      "Epoch 138/300\n",
      "1/1 - 1s - loss: 0.2450 - binary_accuracy: 0.5393\n",
      "Epoch 139/300\n",
      "1/1 - 1s - loss: 0.2449 - binary_accuracy: 0.5393\n",
      "Epoch 140/300\n",
      "1/1 - 1s - loss: 0.2448 - binary_accuracy: 0.5393\n",
      "Epoch 141/300\n",
      "1/1 - 1s - loss: 0.2446 - binary_accuracy: 0.5393\n",
      "Epoch 142/300\n",
      "1/1 - 1s\n"
     ]
    },
    {
     "ename": "KeyboardInterrupt",
     "evalue": "",
     "output_type": "error",
     "traceback": [
      "\u001b[0;31m---------------------------------------------------------------------------\u001b[0m",
      "\u001b[0;31mKeyboardInterrupt\u001b[0m                         Traceback (most recent call last)",
      "\u001b[0;32m<ipython-input-23-381f7268567b>\u001b[0m in \u001b[0;36m<module>\u001b[0;34m\u001b[0m\n\u001b[0;32m----> 1\u001b[0;31m \u001b[0mhistory\u001b[0m \u001b[0;34m=\u001b[0m \u001b[0mmodel\u001b[0m\u001b[0;34m.\u001b[0m\u001b[0mfit\u001b[0m\u001b[0;34m(\u001b[0m\u001b[0mX\u001b[0m\u001b[0;34m,\u001b[0m \u001b[0my\u001b[0m\u001b[0;34m,\u001b[0m \u001b[0mepochs\u001b[0m\u001b[0;34m=\u001b[0m\u001b[0;36m300\u001b[0m\u001b[0;34m,\u001b[0m \u001b[0mverbose\u001b[0m\u001b[0;34m=\u001b[0m\u001b[0;36m2\u001b[0m\u001b[0;34m)\u001b[0m\u001b[0;34m\u001b[0m\u001b[0;34m\u001b[0m\u001b[0m\n\u001b[0m",
      "\u001b[0;32m~/py3_virtualenv/jupe/lib/python3.7/site-packages/tensorflow_core/python/keras/engine/training.py\u001b[0m in \u001b[0;36mfit\u001b[0;34m(self, x, y, batch_size, epochs, verbose, callbacks, validation_split, validation_data, shuffle, class_weight, sample_weight, initial_epoch, steps_per_epoch, validation_steps, validation_freq, max_queue_size, workers, use_multiprocessing, **kwargs)\u001b[0m\n\u001b[1;32m    817\u001b[0m         \u001b[0mmax_queue_size\u001b[0m\u001b[0;34m=\u001b[0m\u001b[0mmax_queue_size\u001b[0m\u001b[0;34m,\u001b[0m\u001b[0;34m\u001b[0m\u001b[0;34m\u001b[0m\u001b[0m\n\u001b[1;32m    818\u001b[0m         \u001b[0mworkers\u001b[0m\u001b[0;34m=\u001b[0m\u001b[0mworkers\u001b[0m\u001b[0;34m,\u001b[0m\u001b[0;34m\u001b[0m\u001b[0;34m\u001b[0m\u001b[0m\n\u001b[0;32m--> 819\u001b[0;31m         use_multiprocessing=use_multiprocessing)\n\u001b[0m\u001b[1;32m    820\u001b[0m \u001b[0;34m\u001b[0m\u001b[0m\n\u001b[1;32m    821\u001b[0m   def evaluate(self,\n",
      "\u001b[0;32m~/py3_virtualenv/jupe/lib/python3.7/site-packages/tensorflow_core/python/keras/engine/training_v2.py\u001b[0m in \u001b[0;36mfit\u001b[0;34m(self, model, x, y, batch_size, epochs, verbose, callbacks, validation_split, validation_data, shuffle, class_weight, sample_weight, initial_epoch, steps_per_epoch, validation_steps, validation_freq, max_queue_size, workers, use_multiprocessing, **kwargs)\u001b[0m\n\u001b[1;32m    340\u001b[0m                 \u001b[0mmode\u001b[0m\u001b[0;34m=\u001b[0m\u001b[0mModeKeys\u001b[0m\u001b[0;34m.\u001b[0m\u001b[0mTRAIN\u001b[0m\u001b[0;34m,\u001b[0m\u001b[0;34m\u001b[0m\u001b[0;34m\u001b[0m\u001b[0m\n\u001b[1;32m    341\u001b[0m                 \u001b[0mtraining_context\u001b[0m\u001b[0;34m=\u001b[0m\u001b[0mtraining_context\u001b[0m\u001b[0;34m,\u001b[0m\u001b[0;34m\u001b[0m\u001b[0;34m\u001b[0m\u001b[0m\n\u001b[0;32m--> 342\u001b[0;31m                 total_epochs=epochs)\n\u001b[0m\u001b[1;32m    343\u001b[0m             \u001b[0mcbks\u001b[0m\u001b[0;34m.\u001b[0m\u001b[0mmake_logs\u001b[0m\u001b[0;34m(\u001b[0m\u001b[0mmodel\u001b[0m\u001b[0;34m,\u001b[0m \u001b[0mepoch_logs\u001b[0m\u001b[0;34m,\u001b[0m \u001b[0mtraining_result\u001b[0m\u001b[0;34m,\u001b[0m \u001b[0mModeKeys\u001b[0m\u001b[0;34m.\u001b[0m\u001b[0mTRAIN\u001b[0m\u001b[0;34m)\u001b[0m\u001b[0;34m\u001b[0m\u001b[0;34m\u001b[0m\u001b[0m\n\u001b[1;32m    344\u001b[0m \u001b[0;34m\u001b[0m\u001b[0m\n",
      "\u001b[0;32m~/py3_virtualenv/jupe/lib/python3.7/site-packages/tensorflow_core/python/keras/engine/training_v2.py\u001b[0m in \u001b[0;36mrun_one_epoch\u001b[0;34m(model, iterator, execution_function, dataset_size, batch_size, strategy, steps_per_epoch, num_samples, mode, training_context, total_epochs)\u001b[0m\n\u001b[1;32m    126\u001b[0m         step=step, mode=mode, size=current_batch_size) as batch_logs:\n\u001b[1;32m    127\u001b[0m       \u001b[0;32mtry\u001b[0m\u001b[0;34m:\u001b[0m\u001b[0;34m\u001b[0m\u001b[0;34m\u001b[0m\u001b[0m\n\u001b[0;32m--> 128\u001b[0;31m         \u001b[0mbatch_outs\u001b[0m \u001b[0;34m=\u001b[0m \u001b[0mexecution_function\u001b[0m\u001b[0;34m(\u001b[0m\u001b[0miterator\u001b[0m\u001b[0;34m)\u001b[0m\u001b[0;34m\u001b[0m\u001b[0;34m\u001b[0m\u001b[0m\n\u001b[0m\u001b[1;32m    129\u001b[0m       \u001b[0;32mexcept\u001b[0m \u001b[0;34m(\u001b[0m\u001b[0mStopIteration\u001b[0m\u001b[0;34m,\u001b[0m \u001b[0merrors\u001b[0m\u001b[0;34m.\u001b[0m\u001b[0mOutOfRangeError\u001b[0m\u001b[0;34m)\u001b[0m\u001b[0;34m:\u001b[0m\u001b[0;34m\u001b[0m\u001b[0;34m\u001b[0m\u001b[0m\n\u001b[1;32m    130\u001b[0m         \u001b[0;31m# TODO(kaftan): File bug about tf function and errors.OutOfRangeError?\u001b[0m\u001b[0;34m\u001b[0m\u001b[0;34m\u001b[0m\u001b[0;34m\u001b[0m\u001b[0m\n",
      "\u001b[0;32m~/py3_virtualenv/jupe/lib/python3.7/site-packages/tensorflow_core/python/keras/engine/training_v2_utils.py\u001b[0m in \u001b[0;36mexecution_function\u001b[0;34m(input_fn)\u001b[0m\n\u001b[1;32m     96\u001b[0m     \u001b[0;31m# `numpy` translates Tensors to values in Eager mode.\u001b[0m\u001b[0;34m\u001b[0m\u001b[0;34m\u001b[0m\u001b[0;34m\u001b[0m\u001b[0m\n\u001b[1;32m     97\u001b[0m     return nest.map_structure(_non_none_constant_value,\n\u001b[0;32m---> 98\u001b[0;31m                               distributed_function(input_fn))\n\u001b[0m\u001b[1;32m     99\u001b[0m \u001b[0;34m\u001b[0m\u001b[0m\n\u001b[1;32m    100\u001b[0m   \u001b[0;32mreturn\u001b[0m \u001b[0mexecution_function\u001b[0m\u001b[0;34m\u001b[0m\u001b[0;34m\u001b[0m\u001b[0m\n",
      "\u001b[0;32m~/py3_virtualenv/jupe/lib/python3.7/site-packages/tensorflow_core/python/eager/def_function.py\u001b[0m in \u001b[0;36m__call__\u001b[0;34m(self, *args, **kwds)\u001b[0m\n\u001b[1;32m    566\u001b[0m         \u001b[0mxla_context\u001b[0m\u001b[0;34m.\u001b[0m\u001b[0mExit\u001b[0m\u001b[0;34m(\u001b[0m\u001b[0;34m)\u001b[0m\u001b[0;34m\u001b[0m\u001b[0;34m\u001b[0m\u001b[0m\n\u001b[1;32m    567\u001b[0m     \u001b[0;32melse\u001b[0m\u001b[0;34m:\u001b[0m\u001b[0;34m\u001b[0m\u001b[0;34m\u001b[0m\u001b[0m\n\u001b[0;32m--> 568\u001b[0;31m       \u001b[0mresult\u001b[0m \u001b[0;34m=\u001b[0m \u001b[0mself\u001b[0m\u001b[0;34m.\u001b[0m\u001b[0m_call\u001b[0m\u001b[0;34m(\u001b[0m\u001b[0;34m*\u001b[0m\u001b[0margs\u001b[0m\u001b[0;34m,\u001b[0m \u001b[0;34m**\u001b[0m\u001b[0mkwds\u001b[0m\u001b[0;34m)\u001b[0m\u001b[0;34m\u001b[0m\u001b[0;34m\u001b[0m\u001b[0m\n\u001b[0m\u001b[1;32m    569\u001b[0m \u001b[0;34m\u001b[0m\u001b[0m\n\u001b[1;32m    570\u001b[0m     \u001b[0;32mif\u001b[0m \u001b[0mtracing_count\u001b[0m \u001b[0;34m==\u001b[0m \u001b[0mself\u001b[0m\u001b[0;34m.\u001b[0m\u001b[0m_get_tracing_count\u001b[0m\u001b[0;34m(\u001b[0m\u001b[0;34m)\u001b[0m\u001b[0;34m:\u001b[0m\u001b[0;34m\u001b[0m\u001b[0;34m\u001b[0m\u001b[0m\n",
      "\u001b[0;32m~/py3_virtualenv/jupe/lib/python3.7/site-packages/tensorflow_core/python/eager/def_function.py\u001b[0m in \u001b[0;36m_call\u001b[0;34m(self, *args, **kwds)\u001b[0m\n\u001b[1;32m    597\u001b[0m       \u001b[0;31m# In this case we have created variables on the first call, so we run the\u001b[0m\u001b[0;34m\u001b[0m\u001b[0;34m\u001b[0m\u001b[0;34m\u001b[0m\u001b[0m\n\u001b[1;32m    598\u001b[0m       \u001b[0;31m# defunned version which is guaranteed to never create variables.\u001b[0m\u001b[0;34m\u001b[0m\u001b[0;34m\u001b[0m\u001b[0;34m\u001b[0m\u001b[0m\n\u001b[0;32m--> 599\u001b[0;31m       \u001b[0;32mreturn\u001b[0m \u001b[0mself\u001b[0m\u001b[0;34m.\u001b[0m\u001b[0m_stateless_fn\u001b[0m\u001b[0;34m(\u001b[0m\u001b[0;34m*\u001b[0m\u001b[0margs\u001b[0m\u001b[0;34m,\u001b[0m \u001b[0;34m**\u001b[0m\u001b[0mkwds\u001b[0m\u001b[0;34m)\u001b[0m  \u001b[0;31m# pylint: disable=not-callable\u001b[0m\u001b[0;34m\u001b[0m\u001b[0;34m\u001b[0m\u001b[0m\n\u001b[0m\u001b[1;32m    600\u001b[0m     \u001b[0;32melif\u001b[0m \u001b[0mself\u001b[0m\u001b[0;34m.\u001b[0m\u001b[0m_stateful_fn\u001b[0m \u001b[0;32mis\u001b[0m \u001b[0;32mnot\u001b[0m \u001b[0;32mNone\u001b[0m\u001b[0;34m:\u001b[0m\u001b[0;34m\u001b[0m\u001b[0;34m\u001b[0m\u001b[0m\n\u001b[1;32m    601\u001b[0m       \u001b[0;31m# Release the lock early so that multiple threads can perform the call\u001b[0m\u001b[0;34m\u001b[0m\u001b[0;34m\u001b[0m\u001b[0;34m\u001b[0m\u001b[0m\n",
      "\u001b[0;32m~/py3_virtualenv/jupe/lib/python3.7/site-packages/tensorflow_core/python/eager/function.py\u001b[0m in \u001b[0;36m__call__\u001b[0;34m(self, *args, **kwargs)\u001b[0m\n\u001b[1;32m   2361\u001b[0m     \u001b[0;32mwith\u001b[0m \u001b[0mself\u001b[0m\u001b[0;34m.\u001b[0m\u001b[0m_lock\u001b[0m\u001b[0;34m:\u001b[0m\u001b[0;34m\u001b[0m\u001b[0;34m\u001b[0m\u001b[0m\n\u001b[1;32m   2362\u001b[0m       \u001b[0mgraph_function\u001b[0m\u001b[0;34m,\u001b[0m \u001b[0margs\u001b[0m\u001b[0;34m,\u001b[0m \u001b[0mkwargs\u001b[0m \u001b[0;34m=\u001b[0m \u001b[0mself\u001b[0m\u001b[0;34m.\u001b[0m\u001b[0m_maybe_define_function\u001b[0m\u001b[0;34m(\u001b[0m\u001b[0margs\u001b[0m\u001b[0;34m,\u001b[0m \u001b[0mkwargs\u001b[0m\u001b[0;34m)\u001b[0m\u001b[0;34m\u001b[0m\u001b[0;34m\u001b[0m\u001b[0m\n\u001b[0;32m-> 2363\u001b[0;31m     \u001b[0;32mreturn\u001b[0m \u001b[0mgraph_function\u001b[0m\u001b[0;34m.\u001b[0m\u001b[0m_filtered_call\u001b[0m\u001b[0;34m(\u001b[0m\u001b[0margs\u001b[0m\u001b[0;34m,\u001b[0m \u001b[0mkwargs\u001b[0m\u001b[0;34m)\u001b[0m  \u001b[0;31m# pylint: disable=protected-access\u001b[0m\u001b[0;34m\u001b[0m\u001b[0;34m\u001b[0m\u001b[0m\n\u001b[0m\u001b[1;32m   2364\u001b[0m \u001b[0;34m\u001b[0m\u001b[0m\n\u001b[1;32m   2365\u001b[0m   \u001b[0;34m@\u001b[0m\u001b[0mproperty\u001b[0m\u001b[0;34m\u001b[0m\u001b[0;34m\u001b[0m\u001b[0m\n",
      "\u001b[0;32m~/py3_virtualenv/jupe/lib/python3.7/site-packages/tensorflow_core/python/eager/function.py\u001b[0m in \u001b[0;36m_filtered_call\u001b[0;34m(self, args, kwargs)\u001b[0m\n\u001b[1;32m   1609\u001b[0m          if isinstance(t, (ops.Tensor,\n\u001b[1;32m   1610\u001b[0m                            resource_variable_ops.BaseResourceVariable))),\n\u001b[0;32m-> 1611\u001b[0;31m         self.captured_inputs)\n\u001b[0m\u001b[1;32m   1612\u001b[0m \u001b[0;34m\u001b[0m\u001b[0m\n\u001b[1;32m   1613\u001b[0m   \u001b[0;32mdef\u001b[0m \u001b[0m_call_flat\u001b[0m\u001b[0;34m(\u001b[0m\u001b[0mself\u001b[0m\u001b[0;34m,\u001b[0m \u001b[0margs\u001b[0m\u001b[0;34m,\u001b[0m \u001b[0mcaptured_inputs\u001b[0m\u001b[0;34m,\u001b[0m \u001b[0mcancellation_manager\u001b[0m\u001b[0;34m=\u001b[0m\u001b[0;32mNone\u001b[0m\u001b[0;34m)\u001b[0m\u001b[0;34m:\u001b[0m\u001b[0;34m\u001b[0m\u001b[0;34m\u001b[0m\u001b[0m\n",
      "\u001b[0;32m~/py3_virtualenv/jupe/lib/python3.7/site-packages/tensorflow_core/python/eager/function.py\u001b[0m in \u001b[0;36m_call_flat\u001b[0;34m(self, args, captured_inputs, cancellation_manager)\u001b[0m\n\u001b[1;32m   1690\u001b[0m       \u001b[0;31m# No tape is watching; skip to running the function.\u001b[0m\u001b[0;34m\u001b[0m\u001b[0;34m\u001b[0m\u001b[0;34m\u001b[0m\u001b[0m\n\u001b[1;32m   1691\u001b[0m       return self._build_call_outputs(self._inference_function.call(\n\u001b[0;32m-> 1692\u001b[0;31m           ctx, args, cancellation_manager=cancellation_manager))\n\u001b[0m\u001b[1;32m   1693\u001b[0m     forward_backward = self._select_forward_and_backward_functions(\n\u001b[1;32m   1694\u001b[0m         \u001b[0margs\u001b[0m\u001b[0;34m,\u001b[0m\u001b[0;34m\u001b[0m\u001b[0;34m\u001b[0m\u001b[0m\n",
      "\u001b[0;32m~/py3_virtualenv/jupe/lib/python3.7/site-packages/tensorflow_core/python/eager/function.py\u001b[0m in \u001b[0;36mcall\u001b[0;34m(self, ctx, args, cancellation_manager)\u001b[0m\n\u001b[1;32m    543\u001b[0m               \u001b[0minputs\u001b[0m\u001b[0;34m=\u001b[0m\u001b[0margs\u001b[0m\u001b[0;34m,\u001b[0m\u001b[0;34m\u001b[0m\u001b[0;34m\u001b[0m\u001b[0m\n\u001b[1;32m    544\u001b[0m               \u001b[0mattrs\u001b[0m\u001b[0;34m=\u001b[0m\u001b[0;34m(\u001b[0m\u001b[0;34m\"executor_type\"\u001b[0m\u001b[0;34m,\u001b[0m \u001b[0mexecutor_type\u001b[0m\u001b[0;34m,\u001b[0m \u001b[0;34m\"config_proto\"\u001b[0m\u001b[0;34m,\u001b[0m \u001b[0mconfig\u001b[0m\u001b[0;34m)\u001b[0m\u001b[0;34m,\u001b[0m\u001b[0;34m\u001b[0m\u001b[0;34m\u001b[0m\u001b[0m\n\u001b[0;32m--> 545\u001b[0;31m               ctx=ctx)\n\u001b[0m\u001b[1;32m    546\u001b[0m         \u001b[0;32melse\u001b[0m\u001b[0;34m:\u001b[0m\u001b[0;34m\u001b[0m\u001b[0;34m\u001b[0m\u001b[0m\n\u001b[1;32m    547\u001b[0m           outputs = execute.execute_with_cancellation(\n",
      "\u001b[0;32m~/py3_virtualenv/jupe/lib/python3.7/site-packages/tensorflow_core/python/eager/execute.py\u001b[0m in \u001b[0;36mquick_execute\u001b[0;34m(op_name, num_outputs, inputs, attrs, ctx, name)\u001b[0m\n\u001b[1;32m     59\u001b[0m     tensors = pywrap_tensorflow.TFE_Py_Execute(ctx._handle, device_name,\n\u001b[1;32m     60\u001b[0m                                                \u001b[0mop_name\u001b[0m\u001b[0;34m,\u001b[0m \u001b[0minputs\u001b[0m\u001b[0;34m,\u001b[0m \u001b[0mattrs\u001b[0m\u001b[0;34m,\u001b[0m\u001b[0;34m\u001b[0m\u001b[0;34m\u001b[0m\u001b[0m\n\u001b[0;32m---> 61\u001b[0;31m                                                num_outputs)\n\u001b[0m\u001b[1;32m     62\u001b[0m   \u001b[0;32mexcept\u001b[0m \u001b[0mcore\u001b[0m\u001b[0;34m.\u001b[0m\u001b[0m_NotOkStatusException\u001b[0m \u001b[0;32mas\u001b[0m \u001b[0me\u001b[0m\u001b[0;34m:\u001b[0m\u001b[0;34m\u001b[0m\u001b[0;34m\u001b[0m\u001b[0m\n\u001b[1;32m     63\u001b[0m     \u001b[0;32mif\u001b[0m \u001b[0mname\u001b[0m \u001b[0;32mis\u001b[0m \u001b[0;32mnot\u001b[0m \u001b[0;32mNone\u001b[0m\u001b[0;34m:\u001b[0m\u001b[0;34m\u001b[0m\u001b[0;34m\u001b[0m\u001b[0m\n",
      "\u001b[0;31mKeyboardInterrupt\u001b[0m: "
     ]
    }
   ],
   "source": [
    "history = model.fit(X, y, epochs=300, verbose=2)"
   ]
  },
  {
   "cell_type": "markdown",
   "metadata": {
    "colab_type": "text",
    "id": "pcBlFKvpo4UN"
   },
   "source": [
    "Plot the loss and accuracy progression of the model's training by using  the `loss` and `binary_accuracy` keys of dictionary `history.history` like before. What is the final accuracy of the model?"
   ]
  },
  {
   "cell_type": "markdown",
   "metadata": {
    "colab_type": "text",
    "id": "HK7ECQrzo4UP"
   },
   "source": [
    "## Exercise 3\n",
    "\n",
    " A) Draw the architecture diagram of the SRN that solves the XOR problem. You can represent connections from one layer to another by a single arrow.\n",
    " \n",
    " B) It turns out that the accuracy will not get higher than 0.66. Why specifically this number (HINT: What is theoretically possible? You can see for yourself by writing out some data and trying to guess yourself what the next input will be.) Explain your answer.\n",
    " \n",
    " C) This is a weird way to model XOR. But it was very important for Elman to do it this way. Why? Explain your answer. "
   ]
  },
  {
   "cell_type": "markdown",
   "metadata": {
    "colab_type": "text",
    "id": "qjiQihUvo4UQ"
   },
   "source": [
    "## Network analysis"
   ]
  },
  {
   "cell_type": "code",
   "execution_count": null,
   "metadata": {
    "colab": {},
    "colab_type": "code",
    "id": "FqtopGjVo4UR"
   },
   "outputs": [],
   "source": [
    "from plot_functions import plot_weight_matrix, plot_activation_matrix"
   ]
  },
  {
   "cell_type": "markdown",
   "metadata": {
    "colab_type": "text",
    "id": "PRvRQxT4o4Ul"
   },
   "source": [
    "This network is still quite simple, so let's look at the fitted weights."
   ]
  },
  {
   "cell_type": "code",
   "execution_count": null,
   "metadata": {
    "colab": {
     "base_uri": "https://localhost:8080/",
     "height": 322
    },
    "colab_type": "code",
    "id": "2nq3Q8AOo4Un",
    "outputId": "b7b7a083-0302-4662-bda1-8c6da5658885"
   },
   "outputs": [],
   "source": [
    "plot_weight_matrix(model)"
   ]
  },
  {
   "cell_type": "markdown",
   "metadata": {
    "colab_type": "text",
    "id": "RUDupuhLo4Uq"
   },
   "source": [
    "Can you make sense of the weights and what it does? We can make analysis a bit easier by looking the activations of a subset of our data. In the following heatmap, you can see the input values and corresponding target outputs on the y-axis. The actual outputs are in the final column."
   ]
  },
  {
   "cell_type": "code",
   "execution_count": null,
   "metadata": {
    "colab": {
     "base_uri": "https://localhost:8080/",
     "height": 539
    },
    "colab_type": "code",
    "id": "93uYIawjo4Us",
    "outputId": "2a3a7053-aea4-494f-cf2b-d609f58586fc"
   },
   "outputs": [],
   "source": [
    "plt.figure(figsize=(10,8))\n",
    "plot_activation_matrix(model, X, y,\n",
    "                       subset=(0, slice(0, 12), slice(None)),\n",
    "                       vmin=0, vmax=1)"
   ]
  },
  {
   "cell_type": "markdown",
   "metadata": {
    "colab_type": "text",
    "id": "1gU8U35oo4Ux"
   },
   "source": [
    "The `subset` argument allows us to take a subset of our data using the Python `slice` function. We take only the first item of the inputs (`0`), the first 12 time steps (`slice(0, 12)`) and all input/output dimensions (`slice(None)`).\n",
    "\n",
    "Of every three consecutive time steps, every second output should be correct since that output is the XOR of the current and previous input. We can make seeing this easier by just looking at the output layer activations and only the predictable time steps:"
   ]
  },
  {
   "cell_type": "code",
   "execution_count": null,
   "metadata": {
    "colab": {
     "base_uri": "https://localhost:8080/",
     "height": 537
    },
    "colab_type": "code",
    "id": "8qJx_KJXo4Uy",
    "outputId": "8cf0f896-943e-46ec-bd5c-12cd187de2a8"
   },
   "outputs": [],
   "source": [
    "plt.figure(figsize=(10,8))\n",
    "plot_activation_matrix(model, X, y, layers=[model.layers[1]],\n",
    "                       subset=(0, slice(1, 25, 3), slice(None)),\n",
    "                       vmin=0, vmax=1)"
   ]
  },
  {
   "cell_type": "markdown",
   "metadata": {
    "colab_type": "text",
    "id": "9F4vrwX8o4U2"
   },
   "source": [
    "Note that the output is always correct with respect to the target output. This indicates that the network applies XOR on these items. What does the network do with the other two items, which are not predictable?\n",
    "\n",
    "This network shows that neural networks are able to find structure in data, even though two thirds of the data is unpredictable."
   ]
  },
  {
   "cell_type": "markdown",
   "metadata": {
    "colab_type": "text",
    "id": "7biis53To4U6"
   },
   "source": [
    "## Exercise 4 \n",
    "\n",
    "A) Report the connection weights for the SRN after the training. Are they negative or positive?\n",
    "\n",
    "B) How can you see if the network has learned to predict XOR? Explain where you see how well the network is doing. (Hint: read the bottom of page 186-187 in Elman 1990)\n",
    "\n",
    "C) How does the network eventually solve the problem? Explain your answer. "
   ]
  },
  {
   "cell_type": "markdown",
   "metadata": {
    "colab_type": "text",
    "id": "MnOEpc-Mo4U7"
   },
   "source": [
    "# Part 3: Modelling Simple Sentences with Simple Recurrent Neural Networks\n",
    "\n",
    "The previous tutorial showed that simple RNNs are able to find structure in sequential data, even though the structure is not deterministic. Elman (1990) took this a step further in his final experiment in which he trained a simple RNN on a sequence of generated English sentences. In this tutorial, we make a reproduction of his original network. \n",
    "\n",
    "_Elman, J. L. (1990). Finding structure in time. Cognitive science, 14(2), 179-211._"
   ]
  },
  {
   "cell_type": "markdown",
   "metadata": {
    "colab_type": "text",
    "id": "YqHJmlfso4U9"
   },
   "source": [
    "## Data generation\n",
    "\n",
    "Use the small python program `sentence_generator.py`to generate the training set. This program follows the details that are described by Elman (1990) as closely as possible. (Tip: read the paper!) Just like in the original experiment, we will be using a concatenation of 10,000 random 2-3 word sentences without any sentence boundaries. The 29 unique words are one-hot-encoded (like Elman did!) with two extra bits that are always zero."
   ]
  },
  {
   "cell_type": "code",
   "execution_count": null,
   "metadata": {
    "colab": {},
    "colab_type": "code",
    "id": "RfMde_rOo4U_"
   },
   "outputs": [],
   "source": [
    "from sentence_generator import generate_sentences\n",
    "from sklearn.preprocessing import LabelBinarizer"
   ]
  },
  {
   "cell_type": "code",
   "execution_count": null,
   "metadata": {
    "colab": {},
    "colab_type": "code",
    "id": "Zbxuaa00o4VF"
   },
   "outputs": [],
   "source": [
    "sents = generate_sentences(10_000)\n",
    "words = [word for words in sents for word in words]"
   ]
  },
  {
   "cell_type": "markdown",
   "metadata": {
    "colab_type": "text",
    "id": "nHLL-UYqo4VT"
   },
   "source": [
    "What do these sentences look like?"
   ]
  },
  {
   "cell_type": "code",
   "execution_count": null,
   "metadata": {
    "colab": {
     "base_uri": "https://localhost:8080/",
     "height": 68
    },
    "colab_type": "code",
    "id": "55sTdrR0o4Vd",
    "outputId": "c9b448b8-1b11-4b8b-cc11-f6db6064b214"
   },
   "outputs": [],
   "source": [
    "sents[:3]"
   ]
  },
  {
   "cell_type": "markdown",
   "metadata": {
    "colab_type": "text",
    "id": "DRDvn3Mso4Vh"
   },
   "source": [
    "These seem like decent simple sentences. But remember that the actual data is a concatenation of these sentences:"
   ]
  },
  {
   "cell_type": "code",
   "execution_count": null,
   "metadata": {
    "colab": {
     "base_uri": "https://localhost:8080/",
     "height": 34
    },
    "colab_type": "code",
    "id": "T4JJstaMo4Vj",
    "outputId": "472cd5a6-ee60-4934-b326-77f144a98b6b"
   },
   "outputs": [],
   "source": [
    "words[:8]"
   ]
  },
  {
   "cell_type": "markdown",
   "metadata": {
    "colab_type": "text",
    "id": "tNAhRz9To4Vo"
   },
   "source": [
    "Now we have to encode the data so that our simple RNN can process it."
   ]
  },
  {
   "cell_type": "code",
   "execution_count": null,
   "metadata": {
    "colab": {
     "base_uri": "https://localhost:8080/",
     "height": 34
    },
    "colab_type": "code",
    "id": "tlhhcPqWo4Vt",
    "outputId": "64109c0c-f381-4d3f-873f-5465179fcc8e"
   },
   "outputs": [],
   "source": [
    "all_words = list(set(words)) + ['zog', 'zog2']\n",
    "\n",
    "# Use one-hot-encoding to assign a unique input unit to each word\n",
    "encoder = LabelBinarizer()\n",
    "encoder.fit(all_words)\n",
    "word_data = encoder.transform(words)\n",
    "\n",
    "# The first axis will have size 1, just like the previous tutorial\n",
    "X = word_data[np.newaxis, :]\n",
    "y = np.append(word_data[1:], word_data[:1], axis=0)[np.newaxis, :]\n",
    "\n",
    "X.shape, y.shape"
   ]
  },
  {
   "cell_type": "markdown",
   "metadata": {
    "colab_type": "text",
    "id": "Q4Hwt8DUo4Vy"
   },
   "source": [
    "`X` and `y` both have the correct shape, so we can now create the network."
   ]
  },
  {
   "cell_type": "markdown",
   "metadata": {
    "colab_type": "text",
    "id": "DZeeEP5yo4Vz"
   },
   "source": [
    "## Model definition\n",
    "\n",
    "Now you will create a network that is very similar to the sequential XOR SRN, but follows the architecture choices of Elman."
   ]
  },
  {
   "cell_type": "code",
   "execution_count": null,
   "metadata": {
    "colab": {
     "base_uri": "https://localhost:8080/",
     "height": 130
    },
    "colab_type": "code",
    "id": "YlhJlOWzo4V0",
    "outputId": "41f3c26b-1044-4b9c-824a-10c51a68aae7"
   },
   "outputs": [],
   "source": [
    "# complete code here\n",
    "model = Sequential([\n",
    "    SimpleRNN(),\n",
    "    TimeDistributed())\n",
    "])"
   ]
  },
  {
   "cell_type": "markdown",
   "metadata": {
    "colab_type": "text",
    "id": "knl-WKM9o4V7"
   },
   "source": [
    "The important differences between the sequential XOR SRN and this network are:\n",
    " * Greater number of hidden units (how  many?), which enables the network to learn more complex information.\n",
    " * The input shape can be defined as `(None, 31)`. The `None` value indicates that the network works with any number of time steps. Just like the output, the input must be 31-dimensional.\n",
    " * We use the `softmax` activation function in the final layer. This is the recommended choice for the output layer if the output is categorical (which it is).\n",
    " * The loss function is `categorical_crossentropy` for the same reason as above. In simple terms, categorical crossentropy is better for one-hot-encoded data because it gives more importance to that the target unit activation should be highest. MSE for instance weighs all deviations from zero for the other units equally important, so optimization gets easily stuck at the minimum of only zero outputs.\n",
    " * Our network also differs in a number of ways from Elman's because we have some different functions available. However, our results should still be comparable (and informative)."
   ]
  },
  {
   "cell_type": "code",
   "execution_count": null,
   "metadata": {
    "colab": {
     "base_uri": "https://localhost:8080/",
     "height": 361
    },
    "colab_type": "code",
    "id": "xgVou97oo4V8",
    "outputId": "a8ec39ee-f216-40c1-f452-d0738ce650fb"
   },
   "outputs": [],
   "source": [
    "model.compile(loss='categorical_crossentropy', \n",
    "              optimizer=SGD(lr=0.1, momentum=0.9),\n",
    "              metrics=['categorical_accuracy', 'mean_squared_error'])\n",
    "\n",
    "history = model.fit(X, y, epochs=5, verbose=2)"
   ]
  },
  {
   "cell_type": "code",
   "execution_count": null,
   "metadata": {
    "colab": {},
    "colab_type": "code",
    "id": "SGoXIQDCo4V_",
    "outputId": "2f41ec9e-187e-4e9d-9bbb-9aced31d9f18"
   },
   "outputs": [],
   "source": [
    "plt.plot(history.history['loss'])\n",
    "plt.title('Loss (lower is better)')\n",
    "plt.ylabel('Categorical Crossentropy')\n",
    "plt.xlabel('Epoch')\n",
    "plt.show()\n",
    "\n",
    "plt.plot(history.history['categorical_accuracy'])\n",
    "plt.title('Categorical Accuracy (higher is better)')\n",
    "plt.ylabel('Categorical Accuracy')\n",
    "plt.xlabel('Epoch')\n",
    "plt.show()\n",
    "\n",
    "plt.plot(history.history['mean_squared_error'])\n",
    "plt.title('Mean Squared Error (lower is better)')\n",
    "plt.ylabel('MSE')\n",
    "plt.xlabel('Epoch')\n",
    "plt.show()"
   ]
  },
  {
   "cell_type": "markdown",
   "metadata": {
    "colab_type": "text",
    "id": "h_smze8Do4WD"
   },
   "source": [
    "After 100 epochs, the loss gets nearly stable. The MSE metric for the final epoch is:"
   ]
  },
  {
   "cell_type": "code",
   "execution_count": null,
   "metadata": {
    "colab": {},
    "colab_type": "code",
    "id": "9kfpyD3Do4WE",
    "outputId": "2b8b9689-dcbf-4d05-931a-b23a32fdaa8b"
   },
   "outputs": [],
   "source": [
    "history.history['mean_squared_error'][-1] * 31"
   ]
  },
  {
   "cell_type": "markdown",
   "metadata": {
    "colab_type": "text",
    "id": "6gHQdEw9o4WJ"
   },
   "source": [
    "It appears that our MSE is a bit lower than the score of Elman. Elman did however train only 6 epochs while we trained 100 epochs. (Poor guy! It probably took him days, if not weeks!)"
   ]
  },
  {
   "cell_type": "markdown",
   "metadata": {
    "colab_type": "text",
    "id": "3LRP68nno4WP"
   },
   "source": [
    "## Exercise 5\n",
    "\n",
    " A) What parameters did you use to define the Elman SRN?\n",
    " \n",
    " B) Elman states: \"Recall that the prediction task is non-deterministic\". Explain why this is so, and why using this network to solve a non-deterministic problem is more interesting than solving a deterministic one.\n",
    " \n",
    " C) Commonly when training and evaluating neural networks, we are concerned about how quickly the loss decreases and how low we can get it to be. But consider: are these useful evaluation metrics for this particular problem? Why or why not? Explain your answer."
   ]
  },
  {
   "cell_type": "markdown",
   "metadata": {
    "colab_type": "text",
    "id": "H5PNeuMyo4WS"
   },
   "source": [
    "## Network Analysis\n",
    "\n",
    "Let's take a look at our network again. With the amount of units in our network, our weight matrix is however not very useful anymore. We can still take a look at some input output combinations in our activation matrix."
   ]
  },
  {
   "cell_type": "code",
   "execution_count": null,
   "metadata": {
    "colab": {},
    "colab_type": "code",
    "id": "cnbvoERNo4WS",
    "outputId": "3a522b18-49ca-4329-efc5-8ff38d3260be"
   },
   "outputs": [],
   "source": [
    "from plot_functions import plot_activation_matrix\n",
    "\n",
    "plt.figure(figsize=(10,8))\n",
    "plot_activation_matrix(model, X, layers=[model.layers[1]],\n",
    "                       subset=(0, slice(0, 20), slice(None)),\n",
    "                       show_values=False)"
   ]
  },
  {
   "cell_type": "markdown",
   "metadata": {
    "colab_type": "text",
    "id": "QRplBtUyo4WV"
   },
   "source": [
    "We can at least see that the network makes predictions and some words are more easily predictable than others. Elman (1990) created a hierarchical cluster of the mean hidden layer activation values per input word. Elman found that the hidden layer activations of similar words are also similar. Let's reproduce his dendrogram:"
   ]
  },
  {
   "cell_type": "code",
   "execution_count": null,
   "metadata": {
    "colab": {},
    "colab_type": "code",
    "id": "UyFffVFpo4WY"
   },
   "outputs": [],
   "source": [
    "from utils import get_activation_matrix\n",
    "\n",
    "import pandas as pd\n",
    "from scipy.cluster.hierarchy import dendrogram, linkage"
   ]
  },
  {
   "cell_type": "code",
   "execution_count": null,
   "metadata": {
    "colab": {},
    "colab_type": "code",
    "id": "mq7tnFSBo4Wd",
    "outputId": "513acf59-4c18-43c8-f146-d2984310081d"
   },
   "outputs": [],
   "source": [
    "# Use pandas to easily calculate group means for the hidden layer\n",
    "activations = pd.DataFrame(get_activation_matrix(model, X, layers=[model.layers[0]])[0])\n",
    "mean_activations = activations.groupby(words).mean()\n",
    "\n",
    "# Use scipy to create a hierarchical cluster\n",
    "Z = linkage(mean_activations, method='complete', metric='euclidean', optimal_ordering=True)\n",
    "\n",
    "plt.figure(figsize=(10,10))\n",
    "dendrogram(Z,\n",
    "           labels=mean_activations.index, \n",
    "           leaf_rotation=0, \n",
    "           orientation='left',\n",
    "           color_threshold=2.0,\n",
    "           above_threshold_color='grey')\n",
    "plt.show()"
   ]
  },
  {
   "cell_type": "markdown",
   "metadata": {
    "colab_type": "text",
    "id": "WP6No7-Jo4Wi"
   },
   "source": [
    "Clearly, the network did learn lexical categories! If you take a look at the lexicon in `sentence_generator.py`, you can see that the clusters match the lexical categories."
   ]
  },
  {
   "cell_type": "markdown",
   "metadata": {
    "colab_type": "text",
    "id": "okL3l-vuo4Wj"
   },
   "source": [
    "## Exercise 6 (To be answered individually)\n",
    "\n",
    " A) Ideally we would want to include several homonyms; use the same representations for both nouns and verbs. How would you modify the `sentence_generator.py` to include several homonyms? Explain what you would do.\n",
    " \n",
    " B) In the first lecture 5 advantages for computational modelling were presented (1. Explicitness,2. Study complex predictions or interactions, 3. Inspiration, 4. Practicality and 5. Control and Explanation). Explain how the SRN model of nouns and verbs relates to each one of the advantages. Your answers should not be longer than\n",
    "400 Words.\n",
    "\n",
    " C) Elman (1990) at the end of the paper states “ Some problems change their nature when expressed as temporal events”, and in the paper the main example of this is the modelling of XOR in a simple feed forward network compared to an SRN. In the lab we also modelled word sequences and saw that parts-of-speech like nouns and verbs could emerge from modelling sequences. But this problem was presented as a serial one. Can you speculate on how\n",
    "noun and verb detection could be learned with using a simple feedforward network? What would the input look like and do you think it could solve the problem? What would that then mean?"
   ]
  }
 ],
 "metadata": {
  "colab": {
   "collapsed_sections": [
    "rzb5EXVao4Sw",
    "5hyy9q94o4Tb",
    "HK7ECQrzo4UP",
    "7biis53To4U6",
    "3LRP68nno4WP",
    "okL3l-vuo4Wj"
   ],
   "name": "Lab_1_2020.ipynb",
   "provenance": []
  },
  "kernelspec": {
   "display_name": "Python 3",
   "language": "python",
   "name": "python3"
  },
  "language_info": {
   "codemirror_mode": {
    "name": "ipython",
    "version": 3
   },
   "file_extension": ".py",
   "mimetype": "text/x-python",
   "name": "python",
   "nbconvert_exporter": "python",
   "pygments_lexer": "ipython3",
   "version": "3.7.3"
  }
 },
 "nbformat": 4,
 "nbformat_minor": 4
}
