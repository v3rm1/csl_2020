{
 "cells": [
  {
   "cell_type": "markdown",
   "metadata": {},
   "source": [
    "# Lab2: Simple Recurrent Network Models for Experimental Predictions\n",
    "#### Jennifer Spenader, Giorgos Tziafas, 2020"
   ]
  },
  {
   "cell_type": "markdown",
   "metadata": {},
   "source": [
    "## Learning Goals for this lab:\n",
    "\n",
    "* Extend practical skills in using Python and Keras to implement simple recurrent networks\n",
    "* Understand the motivations for the second simulation study in the Mirman, Graf Estes and Magnuson (2010) paper\n",
    "* Implement the simulation architecture and run the simulation\n",
    "* Extend knowledge by further building a simulation for the Misyak, Christiansen and Tomblin (2009) study\n",
    "* Confirm the findings of the two papers by performing a new single reaction experiment with new data\n",
    "* Reflect on whether you think the model predictions are realisting enough for human participants or not\n",
    "\n",
    "**Note:** only questions next to capital letters in `Exercise` sections need to be included in the report. Other questions are rhetorical."
   ]
  },
  {
   "cell_type": "markdown",
   "metadata": {},
   "source": [
    "# Part 1: Recreating Mirman et al.\n",
    "\n",
    "Let's first focus on these second model in the Mirman, Graf Estes and Magnuson paper. To really understand this you should carefully read the paper, in particular page 4 and pages 9-11. First, make sure you understand what the model is trying to show. Answer the following questions:"
   ]
  },
  {
   "cell_type": "markdown",
   "metadata": {},
   "source": [
    "## Exercise 1"
   ]
  },
  {
   "cell_type": "markdown",
   "metadata": {},
   "source": [
    " A) The Mirman et al. paper wants to find evidence linking statistical learning with word learning. In your own words, summarize briefly (but using precise terms) what results with human subjects (adults and children) are the trying to explain better?\n",
    "\n",
    "*Answer*\n",
    " \n",
    " \n",
    " The paper (Mirman et al.) examines how Simple Recurrent Networks(SRNs) may be used to model human language learning skills and dgenerates new insights into the process of language learning. In order to test their learning capabilities, SRN architectures were used to model two experiments (that were performed with human participants in Mirman et al., 2008):\n",
    " \n",
    " * Simulation 1: The SRN model tested learners' sensitivity to syllable transitional probabilities vs frequency patterns.\n",
    " * Simulation 2: The SRN model tested the hypothesis that learners benefit from transitional probability information to support label learning.\n",
    " \n",
    " The "
   ]
  },
  {
   "cell_type": "markdown",
   "metadata": {},
   "source": [
    " B) What does Simulation 2 actually show?\n",
    " \n",
    " *Answer*\n",
    " \n",
    " Experiment 1 demonstrates that adult participants tend to learn novel object labels faster when labels contain high probability syllable transitions. Experiment 2 expanded on Experiment 1, examining the relation between the difference in learning of high probability and low probability syllable transitions and the facilitative or inhibitive nature of these syllable transitions. This was done by introducing the participants to a set of \"nonwords\" which were composed of syllables that participants were not exposed to during the exposure phase.\n",
    " \n",
    " The results depict that there is a relationship between the statistical segmentation and word learning, but in contrast to the behaviour observed in infants, adults learned high transitional probability utterances and non-occuring utterances more quickly."
   ]
  },
  {
   "cell_type": "markdown",
   "metadata": {},
   "source": [
    " C) Explain briefly in what way do the results of Simulation 2 add to or clarify the human results."
   ]
  },
  {
   "cell_type": "markdown",
   "metadata": {},
   "source": [
    "## Model and data files\n",
    "\n",
    "All the simulation data files can be found on Nestor under a folder named `Mirman_Sim`. (These are the ACTUAL files that the authors used for their paper implementation in Lens!). However, since the purpose of this lab is for you to recreate their simulation in Python, we have provided you with the necessary utilities for parsing the origina data. Just for reference, here are some of the key files with descriptions of their contents:\n",
    "* `exposureSet2Syll35.ex`: Training examples for the exposure phase \n",
    "* `labelSet2SyllW35.ex`: Set of 'Words' for the label learning phase\n",
    "* `labelSet2SyllPW35.ex`: Set of 'Part Words' for the label learning phase\n",
    "* `labelSet2SyllNW35.ex`: Set of 'Non-Words'\n",
    "* `labelSet2SyllNWc35.ex` : Another set of 'Non-Words'"
   ]
  },
  {
   "cell_type": "markdown",
   "metadata": {},
   "source": [
    "Let's first import all of our necessary utilities for this lab: The `tensorflow.keras` modules for implementing and training our SRNs, some generic Python modules as well as the aforementioned lab utilities from the `mirman_utils.py` script that you can also find in Nestor under `Lab2`. The `LensParser` class takes care of parsing the input data from the Lens format to Python lists and the `Binarizer` class transforms these data to binary `numpy` vectors for interfacing with `keras`."
   ]
  },
  {
   "cell_type": "code",
   "execution_count": 1,
   "metadata": {},
   "outputs": [
    {
     "name": "stderr",
     "output_type": "stream",
     "text": [
      "/Users/varunravivarma/py3_virtualenv/jupe/lib/python3.7/site-packages/pydot.py:18: UserWarning: Couldn't import dot_parser, loading of dot files will not be possible.\n"
     ]
    }
   ],
   "source": [
    "from tensorflow.keras.models import Sequential\n",
    "from tensorflow.keras.layers import Dense, SimpleRNN, TimeDistributed, Flatten\n",
    "from tensorflow.keras.initializers import RandomUniform\n",
    "from tensorflow.keras.optimizers import SGD\n",
    "\n",
    "import random\n",
    "import numpy as np \n",
    "\n",
    "from matplotlib import pyplot as plt \n",
    "\n",
    "from mirman_utils import LensParser, Binarizer, multi_plot"
   ]
  },
  {
   "cell_type": "markdown",
   "metadata": {},
   "source": [
    "The Mirman simulation consists of two phases. First, in the *exposure phase*, the model is presented with 1000-syllable sequences. Our recurrent network takes as an input the first syllable (encoded as a one-hot vector representation) and predicts the next syllable (again encoded as a one-hot vector). The second syllable of the word is then the second input and the third syllable is predicted, etc. Does this model look similar to you as the one that Elman used for lexical class learning? In what ways? The purpose of this phase is to simulate the exposure of human subjects to statistical dependencies between syllables of words in an artificial language.\n",
    "\n",
    "After the exposure phase, the model is trained on a *label learning* task. The purpose is for our model to activate one out of 5 unique \"object\" labels after presented with a two-syllable word. This phase simulates the potential of human subjects in learning to map new words to their object representations in the world. Four different label categories, including different overlapping syllable dependencies with the exposure phase are included in order to further research the connection between this statistical learning and word learning. In other words, the research question at hand is whether an SRN that is trained to predict labels for words consisting of syllable transitions never encountered before (or encountered with smaller probabilities) follows the same behaviour in learning them as human subjects do.\n",
    "\n",
    "\n",
    "After reading the paper fill the code below to define the Mirman SRN model.\n",
    "\n",
    "**Note:** Even though in the paper implementation it is explicitely said that the output consists of 15 neurons (the first 10 are for what and the second 5 for what?) in order to follow the traditional `keras` flow and keep things simple we need to define our model's output as 20, the same as the input, even though our model will learn never to activate the last 5."
   ]
  },
  {
   "cell_type": "code",
   "execution_count": 5,
   "metadata": {},
   "outputs": [
    {
     "name": "stdout",
     "output_type": "stream",
     "text": [
      "Model: \"sequential_1\"\n",
      "_________________________________________________________________\n",
      "Layer (type)                 Output Shape              Param #   \n",
      "=================================================================\n",
      "hidden (SimpleRNN)           (None, None, 15)          540       \n",
      "_________________________________________________________________\n",
      "time_distributed_1 (TimeDist (None, None, 20)          320       \n",
      "=================================================================\n",
      "Total params: 860\n",
      "Trainable params: 860\n",
      "Non-trainable params: 0\n",
      "_________________________________________________________________\n",
      "None\n"
     ]
    }
   ],
   "source": [
    "## fillin _ with the correct parameter \n",
    "model = Sequential([\n",
    "    SimpleRNN(15, input_shape=(None, 20),\n",
    "              return_sequences=True,\n",
    "              activation='tanh',\n",
    "              name='hidden'),\n",
    "    TimeDistributed(Dense(20, activation='softmax', name='output'))\n",
    "])\n",
    "\n",
    "model.compile(loss='categorical_crossentropy', \n",
    "              optimizer=SGD(lr=0.03, momentum=0.9),\n",
    "              metrics=['categorical_accuracy', 'mean_squared_error'])\n",
    "\n",
    "print(model.summary())"
   ]
  },
  {
   "cell_type": "markdown",
   "metadata": {},
   "source": [
    "## Exercise 2"
   ]
  },
  {
   "cell_type": "markdown",
   "metadata": {},
   "source": [
    "A) Take a look at the provided Lens file for the exposure phase data. In the Lens format, the syllables are abstract sequences of node activations, with an integer representing the bit of the one-hot encoding that is activated, with each set of two input-output ('I' and 'T') pairs treated as a single 2-syllable word, e.g:\n",
    "   \n",
    "    name: {1_0} 2\n",
    "    I: {  1} 3\n",
    "    T: {  1} 7 \n",
    "    I: {  1} 7 \n",
    "    T: {  1} 1\n",
    "    ;\n",
    "   \n",
    "In this example, the current word consists of the $[3,7]$ syllables (out of the 10 used for exposure phase) and the first syllable of the next word is $1$. There are $1000$ such examples of syllable transitions in this file. Explain how this number is arrived at given the Lens format.\n",
    "\n",
    " *Answer*\n",
    " The model recieves one syllable as input at the starting of exposure. The target is then the next syllable. When the second syllable is presented to the network, the target is then the third syllable. Thus, given a syllable, the model aims to predict the subsequent two syllables in the 3 syllable label.\n",
    " \n",
    " In case of the example, the the predictions are generated by the model in the following manner:\n",
    " \n",
    " $3 \\to 7 $ followed by $7 \\to 1$\n",
    " \n",
    " The exposure file is used to teach the model the underlying probability distributions for words, part-words and non-words. "
   ]
  },
  {
   "cell_type": "markdown",
   "metadata": {},
   "source": [
    "B) Do the same for the provided label learning data files. In each such file, the same format is used, but for defining the 5 different two-syllable words that the network must learn to distinguish. These are just the description of the labels and not the training data themselves. For example in the word data file:\n",
    " \n",
    "     name: {4} 2\n",
    "     I: {  1} 4 \n",
    "     T: {  1} 13\n",
    "     I: {  1} 9 \n",
    "     T: {  1} 13\n",
    "     ;\n",
    "     \n",
    "This block tells us that the 2-syllable word $[4,9]$ should be mapped to label $13$. Give the set of all different labels in all such files. What does this set have to do with our network's output activations? \n",
    " \n",
    " \n",
    " "
   ]
  },
  {
   "cell_type": "markdown",
   "metadata": {},
   "source": [
    "C) Out of the two non-word data files, one contains novel-sequence non-words (syllable transitions never encountered in the exposure phase) and one novel-syllable non-words (new syllables). Which one is which? How can you tell?"
   ]
  },
  {
   "cell_type": "markdown",
   "metadata": {},
   "source": [
    "## Exposure Phase\n",
    "\n",
    "Now that you've understood how our data is structured, let's implement the exposure phase of our simulation! First, use the `parse_sequence` method of the provided parser to parse the Lens files into Python lists. Inspect the data to verify you understand their structure compared to the Lens format. In order to convert our data to vector representations, we will define a `Binarizer` object and make use of the `binarize_sequence` method. Inspect the data shape and contents."
   ]
  },
  {
   "cell_type": "code",
   "execution_count": 3,
   "metadata": {},
   "outputs": [
    {
     "name": "stdout",
     "output_type": "stream",
     "text": [
      "[6, 0, 3, 7, 1, 2, 4, 9, 8, 5]\n",
      "(1, 1000, 20) (1, 1000, 20)\n",
      "------------------------------------------------\n",
      "[[[0 0 0 0 0 0 1 0 0 0 0 0 0 0 0 0 0 0 0 0]\n",
      "  [1 0 0 0 0 0 0 0 0 0 0 0 0 0 0 0 0 0 0 0]\n",
      "  [0 0 0 1 0 0 0 0 0 0 0 0 0 0 0 0 0 0 0 0]\n",
      "  [0 0 0 0 0 0 0 1 0 0 0 0 0 0 0 0 0 0 0 0]\n",
      "  [0 1 0 0 0 0 0 0 0 0 0 0 0 0 0 0 0 0 0 0]\n",
      "  [0 0 1 0 0 0 0 0 0 0 0 0 0 0 0 0 0 0 0 0]\n",
      "  [0 0 0 0 1 0 0 0 0 0 0 0 0 0 0 0 0 0 0 0]\n",
      "  [0 0 0 0 0 0 0 0 0 1 0 0 0 0 0 0 0 0 0 0]\n",
      "  [0 0 0 0 0 0 0 0 1 0 0 0 0 0 0 0 0 0 0 0]\n",
      "  [0 0 0 0 0 1 0 0 0 0 0 0 0 0 0 0 0 0 0 0]]]\n",
      "------------------------------------------------\n",
      "[[[1 0 0 0 0 0 0 0 0 0 0 0 0 0 0 0 0 0 0 0]\n",
      "  [0 0 0 1 0 0 0 0 0 0 0 0 0 0 0 0 0 0 0 0]\n",
      "  [0 0 0 0 0 0 0 1 0 0 0 0 0 0 0 0 0 0 0 0]\n",
      "  [0 1 0 0 0 0 0 0 0 0 0 0 0 0 0 0 0 0 0 0]\n",
      "  [0 0 1 0 0 0 0 0 0 0 0 0 0 0 0 0 0 0 0 0]\n",
      "  [0 0 0 0 1 0 0 0 0 0 0 0 0 0 0 0 0 0 0 0]\n",
      "  [0 0 0 0 0 0 0 0 0 1 0 0 0 0 0 0 0 0 0 0]\n",
      "  [0 0 0 0 0 0 0 0 1 0 0 0 0 0 0 0 0 0 0 0]\n",
      "  [0 0 0 0 0 1 0 0 0 0 0 0 0 0 0 0 0 0 0 0]\n",
      "  [0 0 0 0 1 0 0 0 0 0 0 0 0 0 0 0 0 0 0 0]]]\n"
     ]
    }
   ],
   "source": [
    "parser = LensParser()\n",
    "bnzer = Binarizer(vocab_size=20)\n",
    "\n",
    "exposure_data = parser.parse_sequence('./exposureSet2Syll35.ex')\n",
    "\n",
    "# inspect the first 10 tokens of the sequence\n",
    "print(exposure_data[:10])\n",
    "\n",
    "X_exposure, y_exposure = bnzer.binarize_sequence(exposure_data)\n",
    "\n",
    "# inspect one-hot representations. Everything looks fine?\n",
    "print(X_exposure.shape, y_exposure.shape)\n",
    "print('-' * 48)\n",
    "print(X_exposure[:,:10])\n",
    "print('-' * 48)\n",
    "print(y_exposure[:,:10])"
   ]
  },
  {
   "cell_type": "markdown",
   "metadata": {},
   "source": [
    "Now that our model and data are in place, you are ready to simulate the exposure phase!\n",
    "(**Note:** When attempting to re-train your model remember to run the model definition cell again in order to re-initialize it, otherwise you are training on top of your previous weights!)"
   ]
  },
  {
   "cell_type": "code",
   "execution_count": 4,
   "metadata": {
    "scrolled": true
   },
   "outputs": [
    {
     "name": "stdout",
     "output_type": "stream",
     "text": [
      "Train on 1 samples\n",
      "Epoch 1/75\n",
      "1/1 - 1s - loss: 3.0783 - categorical_accuracy: 0.0330 - mean_squared_error: 0.0480\n",
      "Epoch 2/75\n",
      "1/1 - 0s - loss: 3.0565 - categorical_accuracy: 0.0360 - mean_squared_error: 0.0478\n",
      "Epoch 3/75\n",
      "1/1 - 0s - loss: 3.0180 - categorical_accuracy: 0.0400 - mean_squared_error: 0.0477\n",
      "Epoch 4/75\n",
      "1/1 - 0s - loss: 2.9672 - categorical_accuracy: 0.0560 - mean_squared_error: 0.0474\n",
      "Epoch 5/75\n",
      "1/1 - 0s - loss: 2.9076 - categorical_accuracy: 0.0890 - mean_squared_error: 0.0471\n",
      "Epoch 6/75\n",
      "1/1 - 0s - loss: 2.8413 - categorical_accuracy: 0.1210 - mean_squared_error: 0.0467\n",
      "Epoch 7/75\n",
      "1/1 - 0s - loss: 2.7698 - categorical_accuracy: 0.1680 - mean_squared_error: 0.0463\n",
      "Epoch 8/75\n",
      "1/1 - 0s - loss: 2.6946 - categorical_accuracy: 0.2060 - mean_squared_error: 0.0459\n",
      "Epoch 9/75\n",
      "1/1 - 0s - loss: 2.6179 - categorical_accuracy: 0.2430 - mean_squared_error: 0.0454\n",
      "Epoch 10/75\n",
      "1/1 - 0s - loss: 2.5422 - categorical_accuracy: 0.2830 - mean_squared_error: 0.0449\n",
      "Epoch 11/75\n",
      "1/1 - 0s - loss: 2.4685 - categorical_accuracy: 0.3140 - mean_squared_error: 0.0444\n",
      "Epoch 12/75\n",
      "1/1 - 0s - loss: 2.3956 - categorical_accuracy: 0.3160 - mean_squared_error: 0.0439\n",
      "Epoch 13/75\n",
      "1/1 - 0s - loss: 2.3214 - categorical_accuracy: 0.3280 - mean_squared_error: 0.0433\n",
      "Epoch 14/75\n",
      "1/1 - 0s - loss: 2.2446 - categorical_accuracy: 0.3500 - mean_squared_error: 0.0427\n",
      "Epoch 15/75\n",
      "1/1 - 0s - loss: 2.1660 - categorical_accuracy: 0.3710 - mean_squared_error: 0.0420\n",
      "Epoch 16/75\n",
      "1/1 - 0s - loss: 2.0887 - categorical_accuracy: 0.4220 - mean_squared_error: 0.0412\n",
      "Epoch 17/75\n",
      "1/1 - 0s - loss: 2.0158 - categorical_accuracy: 0.4550 - mean_squared_error: 0.0404\n",
      "Epoch 18/75\n",
      "1/1 - 0s - loss: 1.9471 - categorical_accuracy: 0.4810 - mean_squared_error: 0.0397\n",
      "Epoch 19/75\n",
      "1/1 - 0s - loss: 1.8803 - categorical_accuracy: 0.5040 - mean_squared_error: 0.0390\n",
      "Epoch 20/75\n",
      "1/1 - 0s - loss: 1.8143 - categorical_accuracy: 0.5070 - mean_squared_error: 0.0383\n",
      "Epoch 21/75\n",
      "1/1 - 0s - loss: 1.7499 - categorical_accuracy: 0.5130 - mean_squared_error: 0.0376\n",
      "Epoch 22/75\n",
      "1/1 - 0s - loss: 1.6884 - categorical_accuracy: 0.5170 - mean_squared_error: 0.0370\n",
      "Epoch 23/75\n",
      "1/1 - 0s - loss: 1.6312 - categorical_accuracy: 0.5200 - mean_squared_error: 0.0363\n",
      "Epoch 24/75\n",
      "1/1 - 0s - loss: 1.5791 - categorical_accuracy: 0.5300 - mean_squared_error: 0.0357\n",
      "Epoch 25/75\n",
      "1/1 - 0s - loss: 1.5325 - categorical_accuracy: 0.5230 - mean_squared_error: 0.0351\n",
      "Epoch 26/75\n",
      "1/1 - 0s - loss: 1.4912 - categorical_accuracy: 0.5350 - mean_squared_error: 0.0345\n",
      "Epoch 27/75\n",
      "1/1 - 0s - loss: 1.4548 - categorical_accuracy: 0.5790 - mean_squared_error: 0.0339\n",
      "Epoch 28/75\n",
      "1/1 - 0s - loss: 1.4224 - categorical_accuracy: 0.6100 - mean_squared_error: 0.0334\n",
      "Epoch 29/75\n",
      "1/1 - 0s - loss: 1.3929 - categorical_accuracy: 0.6310 - mean_squared_error: 0.0329\n",
      "Epoch 30/75\n",
      "1/1 - 0s - loss: 1.3656 - categorical_accuracy: 0.6360 - mean_squared_error: 0.0324\n",
      "Epoch 31/75\n",
      "1/1 - 0s - loss: 1.3396 - categorical_accuracy: 0.6370 - mean_squared_error: 0.0319\n",
      "Epoch 32/75\n",
      "1/1 - 0s - loss: 1.3144 - categorical_accuracy: 0.6360 - mean_squared_error: 0.0313\n",
      "Epoch 33/75\n",
      "1/1 - 0s - loss: 1.2899 - categorical_accuracy: 0.6370 - mean_squared_error: 0.0308\n",
      "Epoch 34/75\n",
      "1/1 - 0s - loss: 1.2661 - categorical_accuracy: 0.6360 - mean_squared_error: 0.0302\n",
      "Epoch 35/75\n",
      "1/1 - 0s - loss: 1.2432 - categorical_accuracy: 0.6360 - mean_squared_error: 0.0296\n",
      "Epoch 36/75\n",
      "1/1 - 0s - loss: 1.2211 - categorical_accuracy: 0.6340 - mean_squared_error: 0.0291\n",
      "Epoch 37/75\n",
      "1/1 - 0s - loss: 1.1998 - categorical_accuracy: 0.6340 - mean_squared_error: 0.0286\n",
      "Epoch 38/75\n",
      "1/1 - 0s - loss: 1.1792 - categorical_accuracy: 0.6340 - mean_squared_error: 0.0280\n",
      "Epoch 39/75\n",
      "1/1 - 0s - loss: 1.1592 - categorical_accuracy: 0.6320 - mean_squared_error: 0.0275\n",
      "Epoch 40/75\n",
      "1/1 - 0s - loss: 1.1399 - categorical_accuracy: 0.6320 - mean_squared_error: 0.0270\n",
      "Epoch 41/75\n",
      "1/1 - 0s - loss: 1.1212 - categorical_accuracy: 0.6330 - mean_squared_error: 0.0265\n",
      "Epoch 42/75\n",
      "1/1 - 0s - loss: 1.1031 - categorical_accuracy: 0.6360 - mean_squared_error: 0.0260\n",
      "Epoch 43/75\n",
      "1/1 - 0s - loss: 1.0856 - categorical_accuracy: 0.6360 - mean_squared_error: 0.0256\n",
      "Epoch 44/75\n",
      "1/1 - 0s - loss: 1.0688 - categorical_accuracy: 0.6340 - mean_squared_error: 0.0251\n",
      "Epoch 45/75\n",
      "1/1 - 0s - loss: 1.0527 - categorical_accuracy: 0.6360 - mean_squared_error: 0.0247\n",
      "Epoch 46/75\n",
      "1/1 - 0s - loss: 1.0372 - categorical_accuracy: 0.6370 - mean_squared_error: 0.0243\n",
      "Epoch 47/75\n",
      "1/1 - 0s - loss: 1.0223 - categorical_accuracy: 0.6380 - mean_squared_error: 0.0239\n",
      "Epoch 48/75\n",
      "1/1 - 0s - loss: 1.0082 - categorical_accuracy: 0.6400 - mean_squared_error: 0.0235\n",
      "Epoch 49/75\n",
      "1/1 - 0s - loss: 0.9947 - categorical_accuracy: 0.6390 - mean_squared_error: 0.0231\n",
      "Epoch 50/75\n",
      "1/1 - 0s - loss: 0.9818 - categorical_accuracy: 0.6410 - mean_squared_error: 0.0228\n",
      "Epoch 51/75\n",
      "1/1 - 0s - loss: 0.9695 - categorical_accuracy: 0.6460 - mean_squared_error: 0.0225\n",
      "Epoch 52/75\n",
      "1/1 - 0s - loss: 0.9579 - categorical_accuracy: 0.6480 - mean_squared_error: 0.0222\n",
      "Epoch 53/75\n",
      "1/1 - 0s - loss: 0.9468 - categorical_accuracy: 0.6500 - mean_squared_error: 0.0219\n",
      "Epoch 54/75\n",
      "1/1 - 0s - loss: 0.9363 - categorical_accuracy: 0.6510 - mean_squared_error: 0.0217\n",
      "Epoch 55/75\n",
      "1/1 - 0s - loss: 0.9264 - categorical_accuracy: 0.6530 - mean_squared_error: 0.0214\n",
      "Epoch 56/75\n",
      "1/1 - 0s - loss: 0.9170 - categorical_accuracy: 0.6540 - mean_squared_error: 0.0212\n",
      "Epoch 57/75\n",
      "1/1 - 0s - loss: 0.9081 - categorical_accuracy: 0.6520 - mean_squared_error: 0.0210\n",
      "Epoch 58/75\n",
      "1/1 - 0s - loss: 0.8997 - categorical_accuracy: 0.6520 - mean_squared_error: 0.0208\n",
      "Epoch 59/75\n",
      "1/1 - 0s - loss: 0.8917 - categorical_accuracy: 0.6500 - mean_squared_error: 0.0207\n",
      "Epoch 60/75\n",
      "1/1 - 0s - loss: 0.8841 - categorical_accuracy: 0.6540 - mean_squared_error: 0.0205\n",
      "Epoch 61/75\n",
      "1/1 - 0s - loss: 0.8770 - categorical_accuracy: 0.6540 - mean_squared_error: 0.0204\n",
      "Epoch 62/75\n",
      "1/1 - 0s - loss: 0.8702 - categorical_accuracy: 0.6560 - mean_squared_error: 0.0202\n",
      "Epoch 63/75\n",
      "1/1 - 0s - loss: 0.8637 - categorical_accuracy: 0.6560 - mean_squared_error: 0.0201\n",
      "Epoch 64/75\n",
      "1/1 - 0s - loss: 0.8576 - categorical_accuracy: 0.6580 - mean_squared_error: 0.0200\n",
      "Epoch 65/75\n",
      "1/1 - 0s - loss: 0.8518 - categorical_accuracy: 0.6570 - mean_squared_error: 0.0199\n",
      "Epoch 66/75\n",
      "1/1 - 0s - loss: 0.8462 - categorical_accuracy: 0.6580 - mean_squared_error: 0.0198\n",
      "Epoch 67/75\n",
      "1/1 - 0s - loss: 0.8409 - categorical_accuracy: 0.6590 - mean_squared_error: 0.0197\n",
      "Epoch 68/75\n",
      "1/1 - 0s - loss: 0.8359 - categorical_accuracy: 0.6570 - mean_squared_error: 0.0196\n",
      "Epoch 69/75\n",
      "1/1 - 0s - loss: 0.8310 - categorical_accuracy: 0.6540 - mean_squared_error: 0.0195\n",
      "Epoch 70/75\n",
      "1/1 - 0s - loss: 0.8264 - categorical_accuracy: 0.6560 - mean_squared_error: 0.0194\n",
      "Epoch 71/75\n",
      "1/1 - 0s - loss: 0.8220 - categorical_accuracy: 0.6590 - mean_squared_error: 0.0194\n",
      "Epoch 72/75\n",
      "1/1 - 0s - loss: 0.8177 - categorical_accuracy: 0.6620 - mean_squared_error: 0.0193\n",
      "Epoch 73/75\n",
      "1/1 - 0s - loss: 0.8136 - categorical_accuracy: 0.6700 - mean_squared_error: 0.0192\n",
      "Epoch 74/75\n",
      "1/1 - 0s - loss: 0.8097 - categorical_accuracy: 0.6750 - mean_squared_error: 0.0192\n",
      "Epoch 75/75\n",
      "1/1 - 0s - loss: 0.8059 - categorical_accuracy: 0.6760 - mean_squared_error: 0.0191\n"
     ]
    },
    {
     "data": {
      "image/png": "[encoded data removed]",
      "text/plain": [
       "<Figure size 432x288 with 1 Axes>"
      ]
     },
     "metadata": {
      "needs_background": "light"
     },
     "output_type": "display_data"
    },
    {
     "data": {
      "image/png": "[encoded data removed]",
      "text/plain": [
       "<Figure size 432x288 with 1 Axes>"
      ]
     },
     "metadata": {
      "needs_background": "light"
     },
     "output_type": "display_data"
    },
    {
     "data": {
      "image/png": "[encoded data removed]",
      "text/plain": [
       "<Figure size 432x288 with 1 Axes>"
      ]
     },
     "metadata": {
      "needs_background": "light"
     },
     "output_type": "display_data"
    }
   ],
   "source": [
    "exposure_phase = model.fit(X_exposure, y_exposure, epochs=75, verbose=2)\n",
    "\n",
    "plt.plot(exposure_phase.history['loss'])\n",
    "plt.title('Loss (lower is better)')\n",
    "plt.ylabel('Loss')\n",
    "plt.xlabel('Epoch')\n",
    "plt.show()\n",
    "\n",
    "plt.plot(exposure_phase.history['categorical_accuracy'])\n",
    "plt.title('Categorical Accuracy (higher is better)')\n",
    "plt.ylabel('Categorical Accuracy')\n",
    "plt.xlabel('Epoch')\n",
    "plt.show()\n",
    "\n",
    "plt.plot(exposure_phase.history['mean_squared_error'])\n",
    "plt.title('Mean Squared Error (lower is better)')\n",
    "plt.ylabel('MSE')\n",
    "plt.xlabel('Epoch')\n",
    "plt.show()\n",
    "\n",
    "postexposure_weights = model.get_weights()"
   ]
  },
  {
   "cell_type": "markdown",
   "metadata": {},
   "source": [
    "## Exercise 3\n",
    "\n",
    " A) Train multiple times and average your results. How much training is needed to get a low error rate? (include an example graph in your report)\n",
    " \n",
    " B) How much training did they report in the paper? Would half this training be sufficient? Experiment and explain your results."
   ]
  },
  {
   "cell_type": "markdown",
   "metadata": {},
   "source": [
    "## Label Learning Phase\n",
    "\n",
    "For the label learning phase, we will have to further train our model 4 times, once for every different category of label learning data (word, part-word, novel-syllable non-word and novel-sequence non-word). We will use the `parse_labels` method of our parser to obtain our 5 2-syllable label words. Inspect them to make sure you understand the data format. We then sample 100 examples from such words and binarize. Do our data shapes seem logical?"
   ]
  },
  {
   "cell_type": "code",
   "execution_count": null,
   "metadata": {},
   "outputs": [],
   "source": [
    "# load words label data for label learning phase\n",
    "word_labels = parser.parse_labels('./labelSet2SyllW35.ex')\n",
    "\n",
    "# inspect the data. Are they the same as in the input files?\n",
    "print('Word labels={}'.format(word_labels))\n",
    "\n",
    "# generate 100 training word examples\n",
    "word_data = random.choices(word_labels, k=100)\n",
    "print('First 5 word label examples={}'.format(word_data[:5]))\n",
    "\n",
    "# convert to one-hot encodings\n",
    "Xw, yw = bnzer.binarize_labels(word_data)\n",
    "\n",
    "# inspect the input data shape. Make sense?\n",
    "print('Word data shape={}, labels shape={}'.format(Xw.shape, yw.shape))"
   ]
  },
  {
   "cell_type": "markdown",
   "metadata": {},
   "source": [
    "Without re-initializing our model (keeping the weights the same as after the exposure phase) we are ready to further train it for the label learning task!"
   ]
  },
  {
   "cell_type": "code",
   "execution_count": null,
   "metadata": {},
   "outputs": [],
   "source": [
    "model.set_weights(postexposure_weights)\n",
    "words_learning = model.fit(Xw, yw, epochs=100, verbose=2)\n",
    "\n",
    "plt.plot(words_learning.history['loss'])\n",
    "plt.title('Loss (lower is better)')\n",
    "plt.ylabel('Loss')\n",
    "plt.xlabel('Epoch')\n",
    "plt.show()\n",
    "\n",
    "plt.plot(words_learning.history['categorical_accuracy'])\n",
    "plt.title('Categorical Accuracy (higher is better)')\n",
    "plt.ylabel('Categorical Accuracy')\n",
    "plt.xlabel('Epoch')\n",
    "plt.show()\n",
    "\n",
    "plt.plot(words_learning.history['mean_squared_error'])\n",
    "plt.title('Mean Squared Error (lower is better)')\n",
    "plt.ylabel('MSE')\n",
    "plt.xlabel('Epoch')\n",
    "plt.show()"
   ]
  },
  {
   "cell_type": "markdown",
   "metadata": {},
   "source": [
    "Repeat this process for the other 3 label categories. "
   ]
  },
  {
   "cell_type": "code",
   "execution_count": null,
   "metadata": {},
   "outputs": [],
   "source": [
    "# repeat for the other 3 categories. Don't forget to set the model back to it's postexposure phase!\n",
    "\n",
    "## implement your code here! ##\n",
    "\n",
    "part_words_learning = model.fit()\n",
    "non_words_learning = model.fit()\n",
    "non_words_c_learning = model.fit()"
   ]
  },
  {
   "cell_type": "markdown",
   "metadata": {},
   "source": [
    "Then, use the provided `multi_plot` function to compare the learning progress of the four different categories. (**Note:** You might want to take several trials of the four learning steps in order to gain serious insight about the results)"
   ]
  },
  {
   "cell_type": "code",
   "execution_count": null,
   "metadata": {},
   "outputs": [],
   "source": [
    "losses = [words_learning.history['loss'], part_words_learning.history['loss'], \\\n",
    "          non_words_learning.history['loss'], non_words_c_learning.history['loss']]\n",
    "\n",
    "accuracies = [words_learning.history['categorical_accuracy'], \\\n",
    "              part_words_learning.history['categorical_accuracy'], \\\n",
    "              non_words_learning.history['categorical_accuracy'], \\\n",
    "              non_words_c_learning.history['categorical_accuracy']]\n",
    "\n",
    "\n",
    "MSEs = [words_learning.history['mean_squared_error'], \\\n",
    "        part_words_learning.history['mean_squared_error'], \\\n",
    "        non_words_learning.history['mean_squared_error'], \\\n",
    "        non_words_c_learning.history['mean_squared_error']]\n",
    "\n",
    "\n",
    "multi_plot(losses, accuracies, MSEs)"
   ]
  },
  {
   "cell_type": "markdown",
   "metadata": {},
   "source": [
    "## Exercise 4\n",
    "\n",
    " A) Why do we need to include novel-syllable nonwords in the simulation? What purpose does it serve?\n",
    " \n",
    " B) In the label learning phase, our model must be initialized with the postexposure weights. Explain why. \n",
    " \n",
    " C) Report your comparison graph for the different label categories. Do you obtain similar results as those reported in the paper? Discuss any differences.\n",
    " \n",
    " D) Given the distincion between adult-child results in the human experiments and your model's results, would you say that your SRN model is simulating children or adults? Explain your answer."
   ]
  },
  {
   "cell_type": "markdown",
   "metadata": {},
   "source": [
    "# Part 2: Modelling Misyak et al. (2010)\n",
    "Read Misyak, Christiansen and Tomblin (2010). On page 139 you can find information about the human experiments and on page 145 the description of the SRN employed and the constructed training examples."
   ]
  },
  {
   "cell_type": "markdown",
   "metadata": {},
   "source": [
    "## Model and training data\n",
    "Make sure you understand the experiment details, as you will have to create your own data for simulating it. The data in our case are strings consisting of 3 nonword tokens; A starting nonword syllable ($a$, $b$ or $c$), a middle bisyllabic nonword $X_1,...,X_{24}$ and an ending token ($d$, $e$ or $f$). What combinations are considered *grammatical* in the paper? The purpose of this simulation is to investigate whether the SRN model can learn to predict the ending token of each string after being exposed to the grammatical dependencies for several examples. "
   ]
  },
  {
   "cell_type": "code",
   "execution_count": null,
   "metadata": {},
   "outputs": [],
   "source": [
    "import itertools\n",
    "\n",
    "all_tokens = [\n",
    " 'pel',\n",
    " 'dak',\n",
    " 'vot',\n",
    " 'rid',\n",
    " 'jic',\n",
    " 'tood',\n",
    " 'wadim',\n",
    " 'kicey',\n",
    " 'puser',\n",
    " 'fengle',\n",
    " 'coomo',\n",
    " 'loga',\n",
    " 'gople',\n",
    " 'taspu',\n",
    " 'hiftam',\n",
    " 'deecha',\n",
    " 'vamey',\n",
    " 'skiger',\n",
    " 'benez',\n",
    " 'gensim',\n",
    " 'feenam',\n",
    " 'laelijeen',\n",
    " 'chila',\n",
    " 'roosa',\n",
    " 'plizet',\n",
    " 'balip',\n",
    " 'malsig',\n",
    " 'suleb',\n",
    " 'nilbo',\n",
    " 'wiffle'\n",
    "]\n",
    "\n",
    "start_tokens = all_tokens[:3]  ## {a,b,c}\n",
    "end_tokens = all_tokens[3:6]   ## {d,e,f}\n",
    "middle_tokens = all_tokens[6:] ## {X1,...,X24}\n",
    "\n",
    "grammar_map = {\n",
    "    'pel' : 'rid',   ## a->d\n",
    "    'dak' : 'jic',   ## b->e\n",
    "    'vot' : 'tood'   ## c->f\n",
    "}"
   ]
  },
  {
   "cell_type": "markdown",
   "metadata": {},
   "source": [
    "As described in the paper, the simulation consists of three learning phases:\n",
    "  * **Phase 1:** During this phase the model is presented with 6 grammatical blocks, each consisting of 72 *unique* strings containing all middle tokens. During this phase we expect the model to learn the inehrent dependencies present in our training exaxmples.\n",
    "  * **Phase 2:** In the second phase the model is presented with 1 ungrammatical block containing 24 strings of all middle tokens with violated dependencies. This is meant to simulate the disruption in the predictive capacity of human subjects.\n",
    "  * **Phase 3:** During this \"recovery\" phase, the model is presented again with 1 grammatical block like that of the first phase.  \n",
    "\n",
    "The code below will provide you with all unique combinations of the $24$ middle tokens that hold the defined grammatic dependencies for each grammatical block: "
   ]
  },
  {
   "cell_type": "code",
   "execution_count": null,
   "metadata": {},
   "outputs": [],
   "source": [
    "def generate_grammatical_block():\n",
    "    return [(*r, grammar_map[r[0]]) for r in itertools.product(start_tokens, middle_tokens)]\n",
    "\n",
    "# let's inspect a generated block. Does it look grammatical according to the paper? \n",
    "print(generate_grammatical_block())"
   ]
  },
  {
   "cell_type": "markdown",
   "metadata": {},
   "source": [
    "Fill the code snippet below to generate ungrammatical blocks of 24 strings for the second phase of our simulation. (***Hint:*** Dependencies now should like $aXe, aXf, bXd, bXf, cXd$ and $cXe$)"
   ]
  },
  {
   "cell_type": "code",
   "execution_count": null,
   "metadata": {
    "scrolled": true
   },
   "outputs": [],
   "source": [
    "non_grammar_map = {\n",
    "    'pel' : ['jic', 'tood'],\n",
    "    'dak' : ['rid', 'tood'],\n",
    "    'vot' : ['rid', 'jic']\n",
    "}\n",
    "\n",
    "def generate_ungrammatical_block(num_strings=24):\n",
    "    NotImplemented\n",
    "\n",
    "# inspect an ungrammatical block. \n",
    "print(generate_ungrammatical_block())"
   ]
  },
  {
   "cell_type": "markdown",
   "metadata": {},
   "source": [
    "In our simulation, as we are employing neural network models, all of our data need to be in continuous form. As a result, we will need to encode our vocabulary $\\{a,b,c,d,e,f,X_1,...,X_{24}\\}$ into vector representations. What is the size of our vocabulary? Then each nonword syllable or bisyllable should be mapped to a one-hot encoded vector of such size with a one in the index of the present syllable."
   ]
  },
  {
   "cell_type": "code",
   "execution_count": null,
   "metadata": {},
   "outputs": [],
   "source": [
    "from sklearn.preprocessing import LabelBinarizer\n",
    "\n",
    "# generate one grammatical block of 72 strings, one ungrammatical of default 24 strings\n",
    "# and one \"recovery\" block of 72 grammatical strings\n",
    "gram_block = random.sample(generate_grammatical_block(), 72)\n",
    "ungr_block = random.sample(generate_ungrammatical_block(), 24)\n",
    "rec_block = random.sample(generate_grammatical_block(), 72)\n",
    "\n",
    "# define an one-hot encoder\n",
    "encoder = LabelBinarizer()\n",
    "encoder.fit(all_tokens)\n",
    "\n",
    "# flatten the strings and transform all tokens to one-hot vectors\n",
    "gram_tokens = [token for tokens in gram_block for token in tokens]\n",
    "ungr_tokens = [token for tokens in ungr_block for token in tokens]\n",
    "rec_tokens = [token for tokens in rec_block for token in tokens]\n",
    "\n",
    "gram_vectors = encoder.transform(gram_tokens)\n",
    "ungr_vectors = encoder.transform(ungr_tokens)\n",
    "rec_vectors = encoder.transform(rec_tokens)\n",
    "\n",
    "# define training data and targets by shifting the sequence one token to the left \n",
    "X_gram = gram_vectors[np.newaxis, :]\n",
    "y_gram = np.append(gram_vectors[1:], gram_vectors[:1], axis=0)[np.newaxis, :]\n",
    "\n",
    "X_ungr = ungr_vectors[np.newaxis, :]\n",
    "y_ungr = np.append(ungr_vectors[1:], ungr_vectors[:1], axis=0)[np.newaxis, :]\n",
    "\n",
    "X_rec = rec_vectors[np.newaxis, :]\n",
    "y_rec = np.append(rec_vectors[1:], rec_vectors[:1], axis=0)[np.newaxis, :]\n",
    "\n",
    "# what is the shape of our data? Does this match descriptions in the paper?\n",
    "print(X_gram.shape, y_gram.shape, X_ungr.shape, y_ungr.shape, X_rec.shape, y_rec.shape)\n"
   ]
  },
  {
   "cell_type": "markdown",
   "metadata": {},
   "source": [
    "Right! Now to our model. By now, you should be experienced in defining SRNs. Read the description of the network parameters from the paper and fill the code below to define the simulation model. You might want to take a look at the Elman implementation from Lab 1 if unsure as to which should be the shape of input/output. "
   ]
  },
  {
   "cell_type": "code",
   "execution_count": null,
   "metadata": {},
   "outputs": [],
   "source": [
    "## fillin _ with the correct parameter \n",
    "model = Sequential([\n",
    "    SimpleRNN(_, input_shape=(None, _),\n",
    "              return_sequences=_,\n",
    "              activation=_,\n",
    "              recurrent_initializer=_,\n",
    "              name='hidden'),\n",
    "    TimeDistributed(Dense(_, activation=_, name='output'))\n",
    "])\n",
    "\n",
    "model.compile(loss=_, \n",
    "              optimizer=SGD(lr=_, momentum=_),\n",
    "              metrics=['categorical_accuracy', 'mean_squared_error'])\n",
    "\n",
    "print(model.summary())"
   ]
  },
  {
   "cell_type": "markdown",
   "metadata": {},
   "source": [
    "## Simulating the Three Learning Phases \n",
    "Run the three learning phases in order and plot your results. Instead of training our model a single epoch in each block, we scale it up to further smooth the learning process and provide better visualization insight."
   ]
  },
  {
   "cell_type": "code",
   "execution_count": null,
   "metadata": {
    "scrolled": true
   },
   "outputs": [],
   "source": [
    "scale_factor = 5\n",
    "\n",
    "print('-'*100)\n",
    "print('Phase 1: 6 grammatical blocks of 72 strings..\\n')\n",
    "phase_1 = model.fit(X_gram, y_gram, epochs=6*scale_factor, verbose=2)\n",
    "print('-'*100)\n",
    "\n",
    "print('Phase 2: 1 ungrammatical block of 24 strings..\\n') \n",
    "phase_2 = model.fit(X_ungr, y_ungr, epochs=1*scale_factor, verbose=2)\n",
    "print('-'*100)\n",
    "\n",
    "print('Phase 3: 1 recovery block of 72 strings..\\n')\n",
    "phase_3 = model.fit(X_rec, y_rec, epochs=1*scale_factor, verbose=2)\n",
    "print('-'*100)"
   ]
  },
  {
   "cell_type": "markdown",
   "metadata": {},
   "source": [
    "Make use of the `loss`, `categorical_accuracy` and `mean_squarred_error` keys of the the three phases history dictionaries (e.g. `phase_1.history` for phase 1) to plot the learning progress of the model in our simulation in a single plot."
   ]
  },
  {
   "cell_type": "code",
   "execution_count": null,
   "metadata": {},
   "outputs": [],
   "source": [
    "import matplotlib.pyplot as plt\n",
    "\n",
    "loss = phase_1.history['loss'] + phase_2.history['loss'] + phase_3.history['loss'] \n",
    "accu = phase_1.history['categorical_accuracy'] + phase_2.history['categorical_accuracy'] \\\n",
    "          + phase_3.history['categorical_accuracy']\n",
    "mse = phase_1.history['mean_squared_error'] + phase_2.history['mean_squared_error'] \\\n",
    "          + phase_3.history['mean_squared_error']\n",
    "\n",
    "\n",
    "plt.plot(loss)\n",
    "plt.title('Loss (lower is better)')\n",
    "plt.ylabel('Loss')\n",
    "plt.xlabel('Epoch')\n",
    "plt.show()\n",
    "\n",
    "plt.plot(accu)\n",
    "plt.title('Categorical Accuracy (higher is better)')\n",
    "plt.ylabel('Categorical Accuracy')\n",
    "plt.xlabel('Epoch')\n",
    "plt.show()\n",
    "\n",
    "plt.plot(mse)\n",
    "plt.title('Mean Squared Error (lower is better)')\n",
    "plt.ylabel('MSE')\n",
    "plt.xlabel('Epoch')\n",
    "plt.show()"
   ]
  },
  {
   "cell_type": "markdown",
   "metadata": {},
   "source": [
    "## Prediction Task and  Network Analysis\n",
    "For the last phase of the simulation, we must inspect whether the model is indeed capable of predicting the last token for 12 grammatical strings. "
   ]
  },
  {
   "cell_type": "code",
   "execution_count": null,
   "metadata": {},
   "outputs": [],
   "source": [
    "pred_block = random.sample(generate_grammatical_block(), 12)\n",
    "\n",
    "# lets view our 12 prediction strings\n",
    "print(pred_block)"
   ]
  },
  {
   "cell_type": "markdown",
   "metadata": {},
   "source": [
    "In order to know what exactly our model predicts, we will create a sequence consisting of all $12*3=36$ tokens in the prediction block and pass it to our model for inference. We use our one-hot encoder to decode the softmax model predictions back to the original token strings for inspection:"
   ]
  },
  {
   "cell_type": "code",
   "execution_count": null,
   "metadata": {},
   "outputs": [],
   "source": [
    "# convert data to one-hot vectors and make model predictions\n",
    "pred_tokens = [token for tokens in pred_block for token in tokens]\n",
    "pred_vectors = encoder.transform(pred_tokens)\n",
    "X_pred = pred_vectors[np.newaxis, :]\n",
    "\n",
    "# decode and inspect\n",
    "predictions = encoder.inverse_transform(np.array(model.predict(X_pred)[0]))\n",
    "\n",
    "print('12-item prediction task input tokens:\\n{}'.format(pred_tokens))\n",
    "print('\\n12-item prediction task output predictions:\\n{}'.format(predictions))"
   ]
  },
  {
   "cell_type": "markdown",
   "metadata": {},
   "source": [
    "Inspect the predictions of the model. Is it indeed able to correctly infer the ending syllable token after seeing the starting and the middle ones? What percentage of the 12 strings were correctly classified? Is this close to your resulting accuracy in your model? You can also make use of the visualization utilities implemented for Lab 1 to inspect the state of our SRN for the Misyak et al. simulation. (Remember to copy paste the necessary python files `plot_functions.py` and `utils.py` to your current working directory)"
   ]
  },
  {
   "cell_type": "code",
   "execution_count": null,
   "metadata": {},
   "outputs": [],
   "source": [
    "from plot_functions import plot_activation_matrix\n",
    "\n",
    "plt.figure(figsize=(10,8))\n",
    "plot_activation_matrix(model, X_gram, layers=[model.layers[1]],\n",
    "                       subset=(0, slice(0, 20), slice(None)),\n",
    "                       show_values=False)"
   ]
  },
  {
   "cell_type": "markdown",
   "metadata": {},
   "source": [
    "## Exercise 5\n",
    "  A) How many weight parameters does the SRN model have in total? How many for the hidden, context and dense layers separately?\n",
    "  \n",
    "  B) What is the loss function that you utilize for training the model. What are the evaluation metrics? Do these numbers represent in their absolute value how well the model is able to predict the end token for each string? Explain your answer.\n",
    "  \n",
    "  C) How does learning proceed? Include in your report information (table/plot) about the error metrics after each block and at the end of the training. Do you see the effect of the 24 ungrammatical trials in the error? How does learning in the recovery period proceed? Briefly but precisely, describe how it went.\n",
    "  \n",
    "  D) In the Misyak et al. study they took the mean score after 30 runs with different random weight initilization. What was the purpose of this? (What does it simulate?)\n",
    "  \n",
    "  E) For the 12-item predictiont task, Misyak et al. calculated the Luce ratio difference scores to determine the network's selection. Do this calculation for the 12-item prediction task and include it in your report."
   ]
  },
  {
   "cell_type": "markdown",
   "metadata": {},
   "source": [
    "## Part 3: Extending Misyak et al.\n",
    "Now that you have recreated the simulation from the Misyak et al. paper, you are ready to extend it. What would happen if instead of one word, there were two words in the middle position? Using the same network (don't add addtional hidden layers!) create new training data that differ from the original by having two words in the middle position. Run the new simulation."
   ]
  },
  {
   "cell_type": "markdown",
   "metadata": {},
   "source": [
    "## Exercise 6\n",
    " \n",
    " A) How does learning proceed now? Describe learning, how the error metrics develop (especially after blocks 6,7 and 8).\n",
    " \n",
    " B) Compare the prediction capacity of the model in this extended simulation to the one of the previous section, commenting on similarities and differences.\n",
    " \n",
    " C) SRNs with only one context layer can learn more than just one step back in time. But is your SRN successful in this task? Explain your answer.\n",
    " \n",
    " D) What do you predict human subjects will do, based on the results of your simulation?"
   ]
  },
  {
   "cell_type": "code",
   "execution_count": null,
   "metadata": {},
   "outputs": [],
   "source": []
  }
 ],
 "metadata": {
  "kernelspec": {
   "display_name": "Python 3",
   "language": "python",
   "name": "python3"
  },
  "language_info": {
   "codemirror_mode": {
    "name": "ipython",
    "version": 3
   },
   "file_extension": ".py",
   "mimetype": "text/x-python",
   "name": "python",
   "nbconvert_exporter": "python",
   "pygments_lexer": "ipython3",
   "version": "3.7.3"
  }
 },
 "nbformat": 4,
 "nbformat_minor": 4
}
